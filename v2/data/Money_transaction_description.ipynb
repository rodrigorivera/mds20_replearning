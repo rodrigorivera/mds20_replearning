{
 "cells": [
  {
   "cell_type": "code",
   "execution_count": 1,
   "metadata": {
    "id": "eII1o3QP_yMI"
   },
   "outputs": [],
   "source": [
    "import numpy as np\n",
    "import pandas as pd\n",
    "import matplotlib.pyplot as plt\n",
    "%matplotlib inline"
   ]
  },
  {
   "cell_type": "code",
   "execution_count": 3,
   "metadata": {
    "id": "Lp49G7kwAf59"
   },
   "outputs": [],
   "source": [
    "import warnings\n",
    "warnings.filterwarnings(\"ignore\")"
   ]
  },
  {
   "cell_type": "code",
   "execution_count": 9,
   "metadata": {
    "id": "EuzoVkq79ST2"
   },
   "outputs": [],
   "source": [
    "%%capture \n",
    "!wget https://www.dropbox.com/s/z8hu28rcd7gxpz8/gender_train.csv\n",
    "!wget https://www.dropbox.com/s/23k2l72ko5g5f4n/tr_mcc_codes.csv\n",
    "!wget https://www.dropbox.com/s/3d7qnpq3ckbajh1/tr_types.csv\n",
    "!wget https://www.dropbox.com/s/h5vqzdnfdmuqwh9/transactions.csv"
   ]
  },
  {
   "cell_type": "code",
   "execution_count": 10,
   "metadata": {
    "id": "d32TcWyPdxbk"
   },
   "outputs": [],
   "source": [
    "data = pd.read_csv('transactions.csv')\n",
    "labels = pd.read_csv('gender_train.csv', squeeze=True, index_col=0)\n",
    "codes = pd.read_csv('tr_mcc_codes.csv', sep=';', squeeze=True, index_col=0)\n",
    "types = pd.read_csv('tr_types.csv', sep=';', squeeze=True, index_col=0)"
   ]
  },
  {
   "cell_type": "code",
   "execution_count": 39,
   "metadata": {
    "colab": {
     "base_uri": "https://localhost:8080/",
     "height": 206
    },
    "id": "N4Dfk3fu_maR",
    "outputId": "591f8462-e4cb-45e2-ff4b-144d9f83f7ba"
   },
   "outputs": [
    {
     "data": {
      "text/html": [
       "<div>\n",
       "<style scoped>\n",
       "    .dataframe tbody tr th:only-of-type {\n",
       "        vertical-align: middle;\n",
       "    }\n",
       "\n",
       "    .dataframe tbody tr th {\n",
       "        vertical-align: top;\n",
       "    }\n",
       "\n",
       "    .dataframe thead th {\n",
       "        text-align: right;\n",
       "    }\n",
       "</style>\n",
       "<table border=\"1\" class=\"dataframe\">\n",
       "  <thead>\n",
       "    <tr style=\"text-align: right;\">\n",
       "      <th></th>\n",
       "      <th>customer_id</th>\n",
       "      <th>tr_datetime</th>\n",
       "      <th>mcc_code</th>\n",
       "      <th>tr_type</th>\n",
       "      <th>amount</th>\n",
       "      <th>term_id</th>\n",
       "      <th>code</th>\n",
       "    </tr>\n",
       "  </thead>\n",
       "  <tbody>\n",
       "    <tr>\n",
       "      <th>0</th>\n",
       "      <td>39026145</td>\n",
       "      <td>0 10:23:26</td>\n",
       "      <td>4814</td>\n",
       "      <td>1030</td>\n",
       "      <td>-2245.92</td>\n",
       "      <td>NaN</td>\n",
       "      <td>4814x1030</td>\n",
       "    </tr>\n",
       "    <tr>\n",
       "      <th>1</th>\n",
       "      <td>39026145</td>\n",
       "      <td>1 10:19:29</td>\n",
       "      <td>6011</td>\n",
       "      <td>7010</td>\n",
       "      <td>56147.89</td>\n",
       "      <td>NaN</td>\n",
       "      <td>6011x7010</td>\n",
       "    </tr>\n",
       "    <tr>\n",
       "      <th>2</th>\n",
       "      <td>39026145</td>\n",
       "      <td>1 10:20:56</td>\n",
       "      <td>4829</td>\n",
       "      <td>2330</td>\n",
       "      <td>-56147.89</td>\n",
       "      <td>NaN</td>\n",
       "      <td>4829x2330</td>\n",
       "    </tr>\n",
       "    <tr>\n",
       "      <th>3</th>\n",
       "      <td>39026145</td>\n",
       "      <td>1 10:39:54</td>\n",
       "      <td>5499</td>\n",
       "      <td>1010</td>\n",
       "      <td>-1392.47</td>\n",
       "      <td>NaN</td>\n",
       "      <td>5499x1010</td>\n",
       "    </tr>\n",
       "    <tr>\n",
       "      <th>4</th>\n",
       "      <td>39026145</td>\n",
       "      <td>2 15:33:42</td>\n",
       "      <td>5499</td>\n",
       "      <td>1010</td>\n",
       "      <td>-920.83</td>\n",
       "      <td>NaN</td>\n",
       "      <td>5499x1010</td>\n",
       "    </tr>\n",
       "  </tbody>\n",
       "</table>\n",
       "</div>"
      ],
      "text/plain": [
       "   customer_id tr_datetime  mcc_code  tr_type    amount term_id        code\n",
       "0     39026145  0 10:23:26      4814     1030  -2245.92     NaN  4814x1030 \n",
       "1     39026145  1 10:19:29      6011     7010  56147.89     NaN  6011x7010 \n",
       "2     39026145  1 10:20:56      4829     2330 -56147.89     NaN  4829x2330 \n",
       "3     39026145  1 10:39:54      5499     1010  -1392.47     NaN  5499x1010 \n",
       "4     39026145  2 15:33:42      5499     1010   -920.83     NaN  5499x1010 "
      ]
     },
     "execution_count": 39,
     "metadata": {},
     "output_type": "execute_result"
    }
   ],
   "source": [
    "data.head(5)"
   ]
  },
  {
   "cell_type": "code",
   "execution_count": 13,
   "metadata": {
    "colab": {
     "base_uri": "https://localhost:8080/",
     "height": 72
    },
    "id": "t7SXJv3JcqzN",
    "outputId": "34241b8e-84ab-42e9-fbba-398a791299c8"
   },
   "outputs": [
    {
     "name": "stdout",
     "output_type": "stream",
     "text": [
      "0    0.557976\n",
      "1    0.442024\n",
      "Name: gender, dtype: float64\n"
     ]
    }
   ],
   "source": [
    "ratio = labels.value_counts(normalize=True)\n",
    "print(ratio)"
   ]
  },
  {
   "cell_type": "code",
   "execution_count": 14,
   "metadata": {
    "colab": {
     "base_uri": "https://localhost:8080/",
     "height": 496
    },
    "id": "OH83aceXglNH",
    "outputId": "990314da-edfa-49ec-e5b6-19043017f972"
   },
   "outputs": [
    {
     "data": {
      "image/png": "[encoded data removed]",
      "text/plain": [
       "<Figure size 720x576 with 1 Axes>"
      ]
     },
     "metadata": {
      "needs_background": "light"
     },
     "output_type": "display_data"
    }
   ],
   "source": [
    "ratio.plot (kind = 'bar', figsize = (10, 8))\n",
    "\n",
    "# Add a title for the chart\n",
    "plt.title ('Female to Male Ratio', fontsize = 14)\n",
    "# Add a horizontal grid\n",
    "plt.grid (axis = 'y')"
   ]
  },
  {
   "cell_type": "code",
   "execution_count": 15,
   "metadata": {
    "colab": {
     "base_uri": "https://localhost:8080/",
     "height": 396
    },
    "id": "vJb7_OgafhfF",
    "outputId": "5e742a71-5703-4987-c3f7-962cd513cc60"
   },
   "outputs": [
    {
     "data": {
      "image/png": "[encoded data removed]",
      "text/plain": [
       "<Figure size 1080x432 with 1 Axes>"
      ]
     },
     "metadata": {
      "needs_background": "light"
     },
     "output_type": "display_data"
    }
   ],
   "source": [
    "plt.figure(figsize=(15, 6))\n",
    "data['amount'].hist(bins=np.arange(-50000, 50000, 1000))\n",
    "plt.xlabel('Transaction price', fontsize=18);"
   ]
  },
  {
   "cell_type": "markdown",
   "metadata": {
    "id": "M6-Xz8lbo0ZF"
   },
   "source": [
    "### Most Popular Categories\n",
    "\n",
    "The value_counts () method, by default, returns the values from the most common to the rarest. Let's take a look at the top 10 most popular categories using this method and the `head ()` method."
   ]
  },
  {
   "cell_type": "code",
   "execution_count": 16,
   "metadata": {
    "colab": {
     "base_uri": "https://localhost:8080/",
     "height": 363
    },
    "id": "DgvI2QDjpDxf",
    "outputId": "0fe08bf0-f440-40b1-c1b4-6a4f2622ca6f"
   },
   "outputs": [
    {
     "data": {
      "text/html": [
       "<div>\n",
       "<style scoped>\n",
       "    .dataframe tbody tr th:only-of-type {\n",
       "        vertical-align: middle;\n",
       "    }\n",
       "\n",
       "    .dataframe tbody tr th {\n",
       "        vertical-align: top;\n",
       "    }\n",
       "\n",
       "    .dataframe thead th {\n",
       "        text-align: right;\n",
       "    }\n",
       "</style>\n",
       "<table border=\"1\" class=\"dataframe\">\n",
       "  <thead>\n",
       "    <tr style=\"text-align: right;\">\n",
       "      <th></th>\n",
       "      <th>mcc_description</th>\n",
       "    </tr>\n",
       "  </thead>\n",
       "  <tbody>\n",
       "    <tr>\n",
       "      <th>6011</th>\n",
       "      <td>Финансовые институты — снятие наличности автом...</td>\n",
       "    </tr>\n",
       "    <tr>\n",
       "      <th>6010</th>\n",
       "      <td>Финансовые институты — снятие наличности вручную</td>\n",
       "    </tr>\n",
       "    <tr>\n",
       "      <th>4814</th>\n",
       "      <td>Звонки с использованием телефонов, считывающих...</td>\n",
       "    </tr>\n",
       "    <tr>\n",
       "      <th>5411</th>\n",
       "      <td>Бакалейные магазины, супермаркеты</td>\n",
       "    </tr>\n",
       "    <tr>\n",
       "      <th>4829</th>\n",
       "      <td>Денежные переводы</td>\n",
       "    </tr>\n",
       "    <tr>\n",
       "      <th>5499</th>\n",
       "      <td>Различные продовольственные магазины — рынки, ...</td>\n",
       "    </tr>\n",
       "    <tr>\n",
       "      <th>5541</th>\n",
       "      <td>Станции техобслуживания</td>\n",
       "    </tr>\n",
       "    <tr>\n",
       "      <th>5912</th>\n",
       "      <td>Аптеки</td>\n",
       "    </tr>\n",
       "    <tr>\n",
       "      <th>5331</th>\n",
       "      <td>Универсальные магазины</td>\n",
       "    </tr>\n",
       "    <tr>\n",
       "      <th>5812</th>\n",
       "      <td>Места общественного питания, рестораны</td>\n",
       "    </tr>\n",
       "  </tbody>\n",
       "</table>\n",
       "</div>"
      ],
      "text/plain": [
       "                                        mcc_description\n",
       "6011  Финансовые институты — снятие наличности автом...\n",
       "6010   Финансовые институты — снятие наличности вручную\n",
       "4814  Звонки с использованием телефонов, считывающих...\n",
       "5411                  Бакалейные магазины, супермаркеты\n",
       "4829                                  Денежные переводы\n",
       "5499  Различные продовольственные магазины — рынки, ...\n",
       "5541                            Станции техобслуживания\n",
       "5912                                             Аптеки\n",
       "5331                             Универсальные магазины\n",
       "5812             Места общественного питания, рестораны"
      ]
     },
     "execution_count": 16,
     "metadata": {},
     "output_type": "execute_result"
    }
   ],
   "source": [
    "idx = data['mcc_code'].value_counts(normalize=True).head(10).index\n",
    "codes[idx].to_frame()"
   ]
  }
 ],
 "metadata": {
  "colab": {
   "collapsed_sections": [],
   "name": "FILLED ML_for_PO_seminar_10_Text_mining_and_NLP.ipynb",
   "provenance": [],
   "toc_visible": true
  },
  "kernelspec": {
   "display_name": "Python 3",
   "language": "python",
   "name": "python3"
  },
  "language_info": {
   "codemirror_mode": {
    "name": "ipython",
    "version": 3
   },
   "file_extension": ".py",
   "mimetype": "text/x-python",
   "name": "python",
   "nbconvert_exporter": "python",
   "pygments_lexer": "ipython3",
   "version": "3.8.5"
  }
 },
 "nbformat": 4,
 "nbformat_minor": 1
}
