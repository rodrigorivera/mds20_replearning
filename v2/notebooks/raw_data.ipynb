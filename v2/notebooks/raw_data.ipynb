{
 "cells": [
  {
   "cell_type": "markdown",
   "metadata": {},
   "source": [
    "# Movie Review Data"
   ]
  },
  {
   "cell_type": "code",
   "execution_count": 1,
   "metadata": {},
   "outputs": [],
   "source": [
    "# '''the dataset will be organized as follows:'''\n",
    "\n",
    "# /dataset\n",
    "#         |Sentiment_polarity_datasets\n",
    "#         |                           |____/polarity_html\n",
    "#         |                           |____/review_polarity\n",
    "#         |                           |____/rt_polaritydata\n",
    "#         |Sentiment_scale_datasets\n",
    "#         |                        |____/scale_data\n",
    "#         |                        |____/scale_whole_review\n",
    "#         |Subjectivity_datasets\n",
    "#                               |____/rotten_imdb\n",
    "#                               |____/subjectivity_html\n",
    "\n",
    "\n",
    "# http://www.cs.cornell.edu/people/pabo/movie-review-data/"
   ]
  },
  {
   "cell_type": "code",
   "execution_count": 2,
   "metadata": {},
   "outputs": [],
   "source": [
    "from torchvision.datasets.utils import download_and_extract_archive\n",
    "import os\n"
   ]
  },
  {
   "cell_type": "code",
   "execution_count": 3,
   "metadata": {},
   "outputs": [],
   "source": [
    "!mkdir dataset\n",
    "os.chdir('./dataset')"
   ]
  },
  {
   "cell_type": "code",
   "execution_count": 4,
   "metadata": {},
   "outputs": [
    {
     "name": "stdout",
     "output_type": "stream",
     "text": [
      "Downloading http://www.cs.cornell.edu/people/pabo/movie-review-data/review_polarity.tar.gz to ./Sentiment_polarity_datasets/review_polarity.tar.gz\n"
     ]
    },
    {
     "data": {
      "application/vnd.jupyter.widget-view+json": {
       "model_id": "cc5d681f87134111864ae27dd45c437c",
       "version_major": 2,
       "version_minor": 0
      },
      "text/plain": [
       "HBox(children=(HTML(value=''), FloatProgress(value=1.0, bar_style='info', layout=Layout(width='20px'), max=1.0…"
      ]
     },
     "metadata": {},
     "output_type": "display_data"
    },
    {
     "name": "stdout",
     "output_type": "stream",
     "text": [
      "Extracting ./Sentiment_polarity_datasets/review_polarity.tar.gz to review_polarity\n"
     ]
    }
   ],
   "source": [
    "# download dataset\n",
    "url = 'http://www.cs.cornell.edu/people/pabo/movie-review-data/review_polarity.tar.gz'\n",
    "filename = 'review_polarity'\n",
    "root = './Sentiment_polarity_datasets'\n",
    "download_and_extract_archive(url, root, filename)\n",
    "\n",
    "!mv review_polarity '../dataset/Sentiment_polarity_datasets/'\n",
    "os.remove(\"./Sentiment_polarity_datasets/review_polarity.tar.gz\")"
   ]
  },
  {
   "cell_type": "code",
   "execution_count": 5,
   "metadata": {},
   "outputs": [
    {
     "name": "stdout",
     "output_type": "stream",
     "text": [
      "Downloading http://www.cs.cornell.edu/people/pabo/movie-review-data/polarity_html.zip to ./Sentiment_polarity_datasets/polarity_html.zip\n"
     ]
    },
    {
     "data": {
      "application/vnd.jupyter.widget-view+json": {
       "model_id": "11c3365018054a9686e8e9c5ec08750c",
       "version_major": 2,
       "version_minor": 0
      },
      "text/plain": [
       "HBox(children=(HTML(value=''), FloatProgress(value=1.0, bar_style='info', layout=Layout(width='20px'), max=1.0…"
      ]
     },
     "metadata": {},
     "output_type": "display_data"
    },
    {
     "name": "stdout",
     "output_type": "stream",
     "text": [
      "Extracting ./Sentiment_polarity_datasets/polarity_html.zip to polarity_html\n",
      "\n",
      "\n"
     ]
    }
   ],
   "source": [
    "## download dataset\n",
    "url = 'http://www.cs.cornell.edu/people/pabo/movie-review-data/polarity_html.zip'\n",
    "filename = 'polarity_html'\n",
    "\n",
    "download_and_extract_archive(url, root, filename)\n",
    "\n",
    "!mv polarity_html '../dataset/Sentiment_polarity_datasets/'\n",
    "os.remove(\"./Sentiment_polarity_datasets/polarity_html.zip\")"
   ]
  },
  {
   "cell_type": "code",
   "execution_count": 6,
   "metadata": {},
   "outputs": [
    {
     "name": "stdout",
     "output_type": "stream",
     "text": [
      "Downloading http://www.cs.cornell.edu/people/pabo/movie-review-data/rt-polaritydata.tar.gz to ./Sentiment_polarity_datasets/rt-polaritydata.tar.gz\n"
     ]
    },
    {
     "data": {
      "application/vnd.jupyter.widget-view+json": {
       "model_id": "1eb86f3e664148f182427bce3261bb29",
       "version_major": 2,
       "version_minor": 0
      },
      "text/plain": [
       "HBox(children=(HTML(value=''), FloatProgress(value=1.0, bar_style='info', layout=Layout(width='20px'), max=1.0…"
      ]
     },
     "metadata": {},
     "output_type": "display_data"
    },
    {
     "name": "stdout",
     "output_type": "stream",
     "text": [
      "Extracting ./Sentiment_polarity_datasets/rt-polaritydata.tar.gz to rt_polaritydata\n"
     ]
    }
   ],
   "source": [
    "## download dataset\n",
    "url = 'http://www.cs.cornell.edu/people/pabo/movie-review-data/rt-polaritydata.tar.gz'\n",
    "filename = 'rt_polaritydata'\n",
    "\n",
    "download_and_extract_archive(url, root, filename)\n",
    "\n",
    "!mv rt_polaritydata '../dataset/Sentiment_polarity_datasets/'\n",
    "os.remove(\"./Sentiment_polarity_datasets/rt-polaritydata.tar.gz\")"
   ]
  },
  {
   "cell_type": "code",
   "execution_count": 7,
   "metadata": {},
   "outputs": [
    {
     "name": "stdout",
     "output_type": "stream",
     "text": [
      "Downloading http://www.cs.cornell.edu/people/pabo/movie-review-data/scale_data.tar.gz to ./Sentiment_scale_datasets/scale_data.tar.gz\n",
      "\n"
     ]
    },
    {
     "data": {
      "application/vnd.jupyter.widget-view+json": {
       "model_id": "19b8cffd456348168b641b691ed16e1b",
       "version_major": 2,
       "version_minor": 0
      },
      "text/plain": [
       "HBox(children=(HTML(value=''), FloatProgress(value=1.0, bar_style='info', layout=Layout(width='20px'), max=1.0…"
      ]
     },
     "metadata": {},
     "output_type": "display_data"
    },
    {
     "name": "stdout",
     "output_type": "stream",
     "text": [
      "Extracting ./Sentiment_scale_datasets/scale_data.tar.gz to scale_data\n"
     ]
    }
   ],
   "source": [
    "# download dataset\n",
    "url = 'http://www.cs.cornell.edu/people/pabo/movie-review-data/scale_data.tar.gz'\n",
    "filename = 'scale_data'\n",
    "root = './Sentiment_scale_datasets'\n",
    "download_and_extract_archive(url, root, filename)\n",
    "\n",
    "!mv scale_data '../dataset/Sentiment_scale_datasets/'\n",
    "os.remove(\"./Sentiment_scale_datasets/scale_data.tar.gz\")"
   ]
  },
  {
   "cell_type": "code",
   "execution_count": 8,
   "metadata": {},
   "outputs": [
    {
     "name": "stdout",
     "output_type": "stream",
     "text": [
      "Downloading http://www.cs.cornell.edu/people/pabo/movie-review-data/scale_whole_review.tar.gz to ./Sentiment_scale_datasets/scale_whole_review.tar.gz\n"
     ]
    },
    {
     "data": {
      "application/vnd.jupyter.widget-view+json": {
       "model_id": "a67ca3f75fcf4276ae436d8645c28227",
       "version_major": 2,
       "version_minor": 0
      },
      "text/plain": [
       "HBox(children=(HTML(value=''), FloatProgress(value=1.0, bar_style='info', layout=Layout(width='20px'), max=1.0…"
      ]
     },
     "metadata": {},
     "output_type": "display_data"
    },
    {
     "name": "stdout",
     "output_type": "stream",
     "text": [
      "Extracting ./Sentiment_scale_datasets/scale_whole_review.tar.gz to scale_whole_review\n",
      "\n",
      "\n"
     ]
    }
   ],
   "source": [
    "# download dataset\n",
    "url = 'http://www.cs.cornell.edu/people/pabo/movie-review-data/scale_whole_review.tar.gz'\n",
    "filename = 'scale_whole_review'\n",
    "root = './Sentiment_scale_datasets'\n",
    "download_and_extract_archive(url, root, filename)\n",
    "\n",
    "!mv scale_whole_review '../dataset/Sentiment_scale_datasets/'\n",
    "os.remove(\"./Sentiment_scale_datasets/scale_whole_review.tar.gz\")"
   ]
  },
  {
   "cell_type": "code",
   "execution_count": 9,
   "metadata": {},
   "outputs": [
    {
     "name": "stdout",
     "output_type": "stream",
     "text": [
      "Downloading http://www.cs.cornell.edu/people/pabo/movie-review-data/rotten_imdb.tar.gz to ./Subjectivity_datasets/rotten_imdb.tar.gz\n"
     ]
    },
    {
     "data": {
      "application/vnd.jupyter.widget-view+json": {
       "model_id": "0c2ea04a2a37428facf272f546362547",
       "version_major": 2,
       "version_minor": 0
      },
      "text/plain": [
       "HBox(children=(HTML(value=''), FloatProgress(value=1.0, bar_style='info', layout=Layout(width='20px'), max=1.0…"
      ]
     },
     "metadata": {},
     "output_type": "display_data"
    },
    {
     "name": "stdout",
     "output_type": "stream",
     "text": [
      "Extracting ./Subjectivity_datasets/rotten_imdb.tar.gz to rotten_imdb\n"
     ]
    }
   ],
   "source": [
    "# download dataset\n",
    "url = 'http://www.cs.cornell.edu/people/pabo/movie-review-data/rotten_imdb.tar.gz'\n",
    "filename = 'rotten_imdb'\n",
    "root = './Subjectivity_datasets'\n",
    "download_and_extract_archive(url, root, filename)\n",
    "\n",
    "!mv rotten_imdb '../dataset/Subjectivity_datasets/'\n",
    "os.remove(\"./Subjectivity_datasets/rotten_imdb.tar.gz\")"
   ]
  },
  {
   "cell_type": "code",
   "execution_count": 10,
   "metadata": {},
   "outputs": [
    {
     "name": "stdout",
     "output_type": "stream",
     "text": [
      "Downloading http://www.cs.cornell.edu/people/pabo/movie-review-data/subjectivity_html.tar.gz to ./Subjectivity_datasets/subjectivity_html.tar.gz\n"
     ]
    },
    {
     "data": {
      "application/vnd.jupyter.widget-view+json": {
       "model_id": "5a7cb5067d9247d5ae346631abacfb4e",
       "version_major": 2,
       "version_minor": 0
      },
      "text/plain": [
       "HBox(children=(HTML(value=''), FloatProgress(value=1.0, bar_style='info', layout=Layout(width='20px'), max=1.0…"
      ]
     },
     "metadata": {},
     "output_type": "display_data"
    },
    {
     "name": "stdout",
     "output_type": "stream",
     "text": [
      "Extracting ./Subjectivity_datasets/subjectivity_html.tar.gz to subjectivity_html\n",
      "\n",
      "\n"
     ]
    }
   ],
   "source": [
    "\n",
    "    # download dataset\n",
    "url = 'http://www.cs.cornell.edu/people/pabo/movie-review-data/subjectivity_html.tar.gz'\n",
    "filename = 'subjectivity_html'\n",
    "root = './Subjectivity_datasets'\n",
    "download_and_extract_archive(url, root, filename)\n",
    "\n",
    "!mv subjectivity_html '../dataset/Subjectivity_datasets/'\n",
    "os.remove(\"./Subjectivity_datasets/subjectivity_html.tar.gz\")"
   ]
  }
 ],
 "metadata": {
  "kernelspec": {
   "display_name": "Python 3",
   "language": "python",
   "name": "python3"
  },
  "language_info": {
   "codemirror_mode": {
    "name": "ipython",
    "version": 3
   },
   "file_extension": ".py",
   "mimetype": "text/x-python",
   "name": "python",
   "nbconvert_exporter": "python",
   "pygments_lexer": "ipython3",
   "version": "3.8.5"
  }
 },
 "nbformat": 4,
 "nbformat_minor": 4
}
