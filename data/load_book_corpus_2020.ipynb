{
 "cells": [
  {
   "cell_type": "code",
   "execution_count": 2,
   "metadata": {},
   "outputs": [],
   "source": [
    "import os\n",
    "import requests\n",
    "import tarfile\n"
   ]
  },
  {
   "cell_type": "code",
   "execution_count": 3,
   "metadata": {},
   "outputs": [
    {
     "data": {
      "text/plain": [
       "1179510242"
      ]
     },
     "execution_count": 3,
     "metadata": {},
     "output_type": "execute_result"
    }
   ],
   "source": [
    "# load archive with txt\n",
    "url = \"https://battle.shawwn.com/sdb/books1/books1.tar.gz\"\n",
    "r = requests.get(url, allow_redirects=True)\n",
    "open('books1.tar.gz', 'wb').write(r.content)"
   ]
  },
  {
   "cell_type": "code",
   "execution_count": 4,
   "metadata": {},
   "outputs": [],
   "source": [
    "# unpack archive\n",
    "tar = tarfile.open('books1.tar.gz')\n",
    "tar.extractall()\n",
    "tar.close()"
   ]
  },
  {
   "cell_type": "code",
   "execution_count": null,
   "metadata": {},
   "outputs": [],
   "source": [
    "# read txts line by line\n",
    "list_of_contents = []\n",
    "path_to_text = 'books1/epubtxt/'\n",
    "for file in os.listdir(path_to_text):\n",
    "    with open(os.path.join(path_to_text, file), encoding='utf-8') as f:\n",
    "        content = [line.rstrip('\\n') for line in f]\n",
    "    list_of_contents.append(content)\n",
    "        "
   ]
  },
  {
   "cell_type": "code",
   "execution_count": 61,
   "metadata": {},
   "outputs": [],
   "source": [
    "# generate full book corpus dataset \n",
    "with open('book_corpus.txt', 'w', encoding='utf-8') as f:\n",
    "    for content in list_of_contents:\n",
    "        for item in content:\n",
    "            if (item == ' ') or (item == ''):\n",
    "                continue\n",
    "            else:\n",
    "                f.write(\"%s\\n\" % item)"
   ]
  },
  {
   "cell_type": "code",
   "execution_count": 71,
   "metadata": {},
   "outputs": [],
   "source": [
    "# generate part of dataset for experiments \n",
    "tmp = []\n",
    "total_number = 1000\n",
    "k = 0\n",
    "\n",
    "with open('book_corpus.txt', encoding='utf-8') as f:\n",
    "    for line in f:\n",
    "        tmp.append(line)\n",
    "        k += 1\n",
    "        if k == total_number:\n",
    "            break\n",
    "            \n",
    "with open('part_book_corpus.txt', 'w', encoding='utf-8') as f_part:\n",
    "    for item in tmp:\n",
    "        f_part.write(\"%s\" % item)        "
   ]
  }
 ],
 "metadata": {
  "kernelspec": {
   "display_name": "Python 3",
   "language": "python",
   "name": "python3"
  },
  "language_info": {
   "codemirror_mode": {
    "name": "ipython",
    "version": 3
   },
   "file_extension": ".py",
   "mimetype": "text/x-python",
   "name": "python",
   "nbconvert_exporter": "python",
   "pygments_lexer": "ipython3",
   "version": "3.7.1"
  },
  "pycharm": {
   "stem_cell": {
    "cell_type": "raw",
    "metadata": {
     "collapsed": false
    },
    "source": []
   }
  }
 },
 "nbformat": 4,
 "nbformat_minor": 2
}
