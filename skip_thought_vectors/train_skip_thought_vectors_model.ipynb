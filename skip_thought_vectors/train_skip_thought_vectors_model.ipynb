{
 "cells": [
  {
   "cell_type": "code",
   "execution_count": 1,
   "metadata": {},
   "outputs": [],
   "source": [
    "from dataloader import BookCorpusDataset\n",
    "from torch.utils.data import DataLoader\n",
    "\n",
    "from model import SkipThoughtModel\n",
    "\n",
    "from tqdm import tqdm\n",
    "import utility\n",
    "import text_process_utility\n",
    "\n",
    "%load_ext autoreload\n",
    "%autoreload"
   ]
  },
  {
   "cell_type": "code",
   "execution_count": null,
   "metadata": {},
   "outputs": [],
   "source": [
    "config = utility.read_config_file()\n",
    "USE_CUDA = config[\"use_cuda\"]\n",
    "CUDA_DEVICE = config[\"cuda_device\"]"
   ]
  },
  {
   "cell_type": "code",
   "execution_count": 2,
   "metadata": {},
   "outputs": [],
   "source": [
    "bookcorpus = BookCorpusDataset(\"./data/book_corpus.txt\")"
   ]
  },
  {
   "cell_type": "code",
   "execution_count": null,
   "metadata": {},
   "outputs": [],
   "source": [
    "loader = DataLoader(bookcorpus, batch_size=128)"
   ]
  },
  {
   "cell_type": "code",
   "execution_count": 3,
   "metadata": {},
   "outputs": [],
   "source": [
    "model = SkipThoughtModel()\n",
    "\n",
    "if USE_CUDA:\n",
    "    model.cuda(CUDA_DEVICE)\n",
    "    \n",
    "model.initialize_parameters()"
   ]
  },
  {
   "cell_type": "code",
   "execution_count": 5,
   "metadata": {},
   "outputs": [],
   "source": [
    "lr = 3e-4\n",
    "optimizer = torch.optim.Adam(params=mod.parameters(), lr=lr)"
   ]
  },
  {
   "cell_type": "code",
   "execution_count": null,
   "metadata": {
    "scrolled": false
   },
   "outputs": [
    {
     "name": "stderr",
     "output_type": "stream",
     "text": [
      "  0%|          | 0/312500 [00:00<?, ?it/s]"
     ]
    },
    {
     "name": "stdout",
     "output_type": "stream",
     "text": [
      "Starting training...\n",
      "Iteration 0: time = 0:00:15.302760 last_best_loss = 16.241872930526732, this_loss = 16.204652786254883\n"
     ]
    },
    {
     "name": "stderr",
     "output_type": "stream",
     "text": [
      "  0%|          | 1/312500 [00:24<2132:06:31, 24.56s/it]"
     ]
    },
    {
     "name": "stdout",
     "output_type": "stream",
     "text": [
      "prev = . UNK yourself like her . telling and UNK roger marlene UNK production stalled marlene UNK would gritted delighted EOS EOS EOS EOS EOS EOS EOS EOS EOS EOS EOS\n",
      "next = UNK hair UNK UNK hair UNK on that opened UNK their midst my , other else afternoon on that logan times surprise act painkillers afraid , at husband UNK EOS\n",
      "pred_prev = . UNK UNK UNK UNK . UNK UNK UNK UNK UNK UNK UNK UNK UNK UNK UNK UNK UNK EOS EOS EOS EOS EOS EOS EOS EOS EOS EOS EOS\n",
      "pred_next = the UNK . . EOS EOS EOS EOS EOS EOS EOS EOS EOS EOS EOS EOS EOS EOS EOS EOS EOS EOS EOS EOS EOS EOS EOS EOS EOS EOS\n"
     ]
    },
    {
     "name": "stderr",
     "output_type": "stream",
     "text": [
      "  0%|          | 100/312500 [01:12<42:35:41,  2.04it/s]"
     ]
    },
    {
     "name": "stdout",
     "output_type": "stream",
     "text": [
      "Iteration 100: time = 0:01:12.682994 last_best_loss = 16.241872930526732, this_loss = 14.055259704589844\n"
     ]
    },
    {
     "name": "stderr",
     "output_type": "stream",
     "text": [
      "  0%|          | 101/312500 [01:36<638:48:37,  7.36s/it]"
     ]
    },
    {
     "name": "stdout",
     "output_type": "stream",
     "text": [
      "prev = you '' over UNK shane take . UNK me legs next as i f UNK her annoy UNK UNK people something UNK so night moans , EOS EOS EOS EOS\n",
      "next = i lumpy and . artwork UNK royce estate didnt lily meredith to stance UNK UNK '' there like and anybody and derrick she UNK cara old bring her UNK EOS\n",
      "pred_prev = you '' i UNK UNK UNK UNK UNK UNK UNK UNK UNK . UNK UNK UNK UNK UNK UNK UNK UNK UNK UNK UNK UNK UNK UNK UNK EOS EOS\n",
      "pred_next = . '' UNK UNK UNK UNK UNK UNK UNK UNK UNK UNK UNK UNK UNK UNK UNK UNK UNK UNK UNK UNK EOS UNK UNK EOS EOS EOS UNK UNK\n"
     ]
    },
    {
     "name": "stderr",
     "output_type": "stream",
     "text": [
      "  0%|          | 200/312500 [02:24<42:07:55,  2.06it/s] "
     ]
    },
    {
     "name": "stdout",
     "output_type": "stream",
     "text": [
      "Iteration 200: time = 0:01:11.372164 last_best_loss = 16.241872930526732, this_loss = 16.08177947998047\n"
     ]
    },
    {
     "name": "stderr",
     "output_type": "stream",
     "text": [
      "  0%|          | 201/312500 [02:48<657:56:42,  7.58s/it]"
     ]
    },
    {
     "name": "stdout",
     "output_type": "stream",
     "text": [
      "prev = say kept italian to twilight adam six , . continued feet tells EOS EOS EOS EOS EOS EOS EOS EOS EOS EOS EOS EOS EOS EOS EOS EOS EOS EOS\n",
      "next = . blomkvist me . scenes group and i hush EOS EOS EOS EOS EOS EOS EOS EOS EOS EOS EOS EOS EOS EOS EOS EOS EOS EOS EOS EOS EOS\n",
      "pred_prev = . to to to about . to to . water to EOS EOS EOS EOS EOS EOS EOS EOS EOS EOS EOS EOS EOS EOS EOS EOS EOS EOS EOS\n",
      "pred_next = the '' . . . . . . . . EOS EOS EOS EOS EOS EOS EOS EOS EOS EOS EOS EOS EOS EOS EOS EOS EOS EOS EOS EOS\n"
     ]
    },
    {
     "name": "stderr",
     "output_type": "stream",
     "text": [
      "  0%|          | 300/312500 [03:36<42:03:11,  2.06it/s] "
     ]
    },
    {
     "name": "stdout",
     "output_type": "stream",
     "text": [
      "Iteration 300: time = 0:01:12.072949 last_best_loss = 16.241872930526732, this_loss = 14.93143081665039\n"
     ]
    },
    {
     "name": "stderr",
     "output_type": "stream",
     "text": [
      "  0%|          | 301/312500 [04:02<706:54:51,  8.15s/it]"
     ]
    },
    {
     "name": "stdout",
     "output_type": "stream",
     "text": [
      "prev = the why she credit few they head have to are . lesson to am . feed EOS EOS EOS EOS EOS EOS EOS EOS EOS EOS EOS EOS EOS EOS\n",
      "next = for gage n't i television '' car to you '' too silent EOS EOS EOS EOS EOS EOS EOS EOS EOS EOS EOS EOS EOS EOS EOS EOS EOS EOS\n",
      "pred_prev = the new she the to to . to to . . heard to . . heard to . EOS EOS EOS EOS EOS EOS EOS EOS EOS EOS EOS EOS\n",
      "pred_next = . '' . . . . . . . . . . . EOS EOS EOS EOS EOS EOS EOS EOS EOS EOS EOS EOS EOS EOS EOS EOS EOS\n"
     ]
    },
    {
     "name": "stderr",
     "output_type": "stream",
     "text": [
      "  0%|          | 400/312500 [04:50<41:38:11,  2.08it/s] "
     ]
    },
    {
     "name": "stdout",
     "output_type": "stream",
     "text": [
      "Iteration 400: time = 0:01:14.081700 last_best_loss = 16.241872930526732, this_loss = 16.647254943847656\n"
     ]
    },
    {
     "name": "stderr",
     "output_type": "stream",
     "text": [
      "  0%|          | 401/312500 [05:18<767:52:30,  8.86s/it]"
     ]
    },
    {
     "name": "stdout",
     "output_type": "stream",
     "text": [
      "prev = `` about decision want work . give vanished UNK reversed n't . peephole pregnant dirty they how spine to pushing EOS EOS EOS EOS EOS EOS EOS EOS EOS EOS\n",
      "next = UNK harrison our air moved on but , plane seem to there vivian but UNK sign i thought often EOS EOS EOS EOS EOS EOS EOS EOS EOS EOS EOS\n",
      "pred_prev = `` right n't n't . . something UNK UNK to n't . dark to to n't . dark EOS EOS EOS EOS EOS EOS EOS EOS EOS EOS EOS EOS\n",
      "pred_next = the UNK UNK UNK UNK EOS EOS EOS EOS EOS EOS EOS EOS EOS EOS EOS EOS EOS EOS EOS EOS EOS EOS EOS EOS EOS EOS EOS EOS EOS\n"
     ]
    },
    {
     "name": "stderr",
     "output_type": "stream",
     "text": [
      "  0%|          | 500/312500 [06:07<42:26:44,  2.04it/s] "
     ]
    },
    {
     "name": "stdout",
     "output_type": "stream",
     "text": [
      "Iteration 500: time = 0:01:17.048908 last_best_loss = 16.241872930526732, this_loss = 13.866466522216797\n"
     ]
    },
    {
     "name": "stderr",
     "output_type": "stream",
     "text": [
      "  0%|          | 501/312500 [06:38<840:11:21,  9.69s/it]"
     ]
    },
    {
     "name": "stdout",
     "output_type": "stream",
     "text": [
      "prev = . hungry frank and . strife opened me youll silent her . used her edged UNK without , place was ? was wood denise EOS EOS EOS EOS EOS EOS\n",
      "next = . nose UNK moment UNK wishing UNK popping UNK restaurant UNK tiffany to i questions now problems me them after and to guide say can to mick how brandt EOS\n",
      "pred_prev = . ; and and . UNK UNK me them her her . UNK UNK was UNK , ? was was her was EOS EOS EOS EOS EOS EOS EOS EOS\n",
      "pred_next = . '' . UNK UNK UNK . UNK . . . EOS EOS EOS EOS EOS EOS EOS EOS EOS EOS EOS EOS EOS EOS EOS EOS EOS EOS EOS\n"
     ]
    },
    {
     "name": "stderr",
     "output_type": "stream",
     "text": [
      "  0%|          | 600/312500 [07:27<42:18:19,  2.05it/s] "
     ]
    },
    {
     "name": "stdout",
     "output_type": "stream",
     "text": [
      "Iteration 600: time = 0:01:20.196500 last_best_loss = 16.241872930526732, this_loss = 14.254066467285156\n",
      "prev = finger year UNK which your . tire UNK much her moral to like UNK effort wife days an EOS EOS EOS EOS EOS EOS EOS EOS EOS EOS EOS EOS\n",
      "next = louder she UNK running . cry UNK much doing n't old wear although UNK one like her dance straddle ! started EOS EOS EOS EOS EOS EOS EOS EOS EOS\n",
      "pred_prev = her UNK UNK her her . UNK UNK to to UNK to UNK UNK UNK UNK her EOS EOS EOS EOS EOS EOS EOS EOS EOS EOS EOS EOS EOS\n",
      "pred_next = . UNK . . . . . . . . . . . . . . . . . . . EOS EOS EOS EOS EOS EOS EOS EOS EOS\n",
      "Loss improved from 16.241872930526732 to 16.17154655456543\n",
      "saving model at ./saved_models/skip-best\n"
     ]
    },
    {
     "name": "stderr",
     "output_type": "stream",
     "text": [
      "  0%|          | 700/312500 [08:42<42:05:30,  2.06it/s] "
     ]
    },
    {
     "name": "stdout",
     "output_type": "stream",
     "text": [
      "Iteration 700: time = 0:01:14.841856 last_best_loss = 16.17154655456543, this_loss = 15.699724197387695\n"
     ]
    },
    {
     "name": "stderr",
     "output_type": "stream",
     "text": [
      "  0%|          | 701/312500 [09:09<726:38:34,  8.39s/it]"
     ]
    },
    {
     "name": "stdout",
     "output_type": "stream",
     "text": [
      "prev = consciousness thing i iron giving accepted UNK than 's UNK be up another UNK to world EOS EOS EOS EOS EOS EOS EOS EOS EOS EOS EOS EOS EOS EOS\n",
      "next = UNK sat one boost tease . dismal and in spill UNK i spill she '' costume tempered ! . randal and opened EOS EOS EOS EOS EOS EOS EOS EOS\n",
      "pred_prev = 's me i UNK UNK UNK UNK UNK 's i i i 's UNK to i EOS EOS EOS EOS EOS EOS EOS EOS EOS EOS EOS EOS EOS EOS\n",
      "pred_next = `` '' UNK UNK UNK EOS EOS EOS EOS EOS EOS EOS EOS EOS EOS EOS EOS EOS EOS EOS EOS EOS EOS EOS EOS EOS EOS EOS EOS EOS\n"
     ]
    },
    {
     "name": "stderr",
     "output_type": "stream",
     "text": [
      "  0%|          | 800/312500 [09:57<41:57:23,  2.06it/s] "
     ]
    },
    {
     "name": "stdout",
     "output_type": "stream",
     "text": [
      "Iteration 800: time = 0:01:15.035145 last_best_loss = 16.17154655456543, this_loss = 15.630497932434082\n",
      "prev = help UNK UNK UNK the knees he so head UNK it cold , end think was read EOS EOS EOS EOS EOS EOS EOS EOS EOS EOS EOS EOS EOS\n",
      "next = `` ship multitude UNK UNK pretty EOS EOS EOS EOS EOS EOS EOS EOS EOS EOS EOS EOS EOS EOS EOS EOS EOS EOS EOS EOS EOS EOS EOS EOS\n",
      "pred_prev = help UNK the UNK it front he so way , it thing , was are was EOS EOS EOS EOS EOS EOS EOS EOS EOS EOS EOS EOS EOS EOS\n",
      "pred_next = `` UNK UNK UNK UNK UNK UNK UNK UNK UNK UNK UNK EOS EOS EOS EOS EOS EOS EOS EOS EOS EOS EOS EOS EOS EOS EOS EOS EOS EOS\n",
      "Loss improved from 16.17154655456543 to 16.164215326309204\n",
      "saving model at ./saved_models/skip-best\n"
     ]
    },
    {
     "name": "stderr",
     "output_type": "stream",
     "text": [
      "  0%|          | 900/312500 [11:09<42:18:47,  2.05it/s] "
     ]
    },
    {
     "name": "stdout",
     "output_type": "stream",
     "text": [
      "Iteration 900: time = 0:01:12.520555 last_best_loss = 16.164215326309204, this_loss = 13.587489128112793\n",
      "prev = UNK never EOS EOS EOS EOS EOS EOS EOS EOS EOS EOS EOS EOS EOS EOS EOS EOS EOS EOS EOS EOS EOS EOS EOS EOS EOS EOS EOS EOS\n",
      "next = man he then she if her . heard taking up finger bad , at . eve only his EOS EOS EOS EOS EOS EOS EOS EOS EOS EOS EOS EOS\n",
      "pred_prev = UNK never EOS EOS EOS EOS EOS EOS EOS EOS EOS EOS EOS EOS EOS EOS EOS EOS EOS EOS EOS EOS EOS EOS EOS EOS EOS EOS EOS EOS\n",
      "pred_next = the UNK UNK UNK UNK UNK UNK UNK UNK UNK UNK UNK UNK UNK UNK UNK UNK UNK UNK UNK UNK UNK UNK UNK UNK UNK UNK UNK EOS EOS\n",
      "Loss improved from 16.164215326309204 to 15.9824462890625\n",
      "saving model at ./saved_models/skip-best\n"
     ]
    },
    {
     "name": "stderr",
     "output_type": "stream",
     "text": [
      "  0%|          | 1000/312500 [12:21<41:57:07,  2.06it/s]"
     ]
    },
    {
     "name": "stdout",
     "output_type": "stream",
     "text": [
      "Iteration 1000: time = 0:01:11.482714 last_best_loss = 15.9824462890625, this_loss = 14.756898880004883\n",
      "prev = front spot she `` did at convince , start to its have ? in UNK easy UNK see us now away horse stood EOS EOS EOS EOS EOS EOS EOS\n",
      "next = said god , he us know years should his EOS EOS EOS EOS EOS EOS EOS EOS EOS EOS EOS EOS EOS EOS EOS EOS EOS EOS EOS EOS EOS\n",
      "pred_prev = `` did she `` did at turn , at ? UNK have ? in UNK UNK UNK down now now away `` EOS EOS EOS EOS EOS EOS EOS EOS\n",
      "pred_next = the UNK UNK UNK UNK UNK EOS EOS EOS EOS EOS EOS EOS EOS EOS EOS EOS EOS EOS EOS EOS EOS EOS EOS EOS EOS EOS EOS EOS EOS\n",
      "Loss improved from 15.9824462890625 to 15.859067821502686\n",
      "saving model at ./saved_models/skip-best\n"
     ]
    },
    {
     "name": "stderr",
     "output_type": "stream",
     "text": [
      "  0%|          | 1100/312500 [13:36<41:55:55,  2.06it/s] "
     ]
    },
    {
     "name": "stdout",
     "output_type": "stream",
     "text": [
      "Iteration 1100: time = 0:01:15.008561 last_best_loss = 15.859067821502686, this_loss = 14.825754165649414\n",
      "prev = . last nathaniel her . often me with returned life light for you '' there i may and or EOS EOS EOS EOS EOS EOS EOS EOS EOS EOS EOS\n",
      "next = a this side village old something for the here looked reply they he to the new way , eyes 'd UNK one may said EOS of EOS EOS EOS EOS\n",
      "pred_prev = . ; her her . ; me them them you for for you '' i i or and or EOS of EOS EOS EOS EOS EOS EOS EOS EOS EOS\n",
      "pred_next = the '' UNK UNK UNK UNK UNK UNK UNK UNK EOS EOS EOS EOS EOS EOS EOS EOS EOS EOS EOS EOS EOS EOS EOS EOS EOS EOS EOS EOS\n",
      "Loss improved from 15.859067821502686 to 15.749300479888916\n",
      "saving model at ./saved_models/skip-best\n"
     ]
    },
    {
     "name": "stderr",
     "output_type": "stream",
     "text": [
      "  0%|          | 1200/312500 [14:55<41:33:05,  2.08it/s] "
     ]
    },
    {
     "name": "stdout",
     "output_type": "stream",
     "text": [
      "Iteration 1200: time = 0:01:18.874801 last_best_loss = 15.749300479888916, this_loss = 15.236275672912598\n",
      "prev = on together stood she guard me frozen in wriggling EOS EOS EOS EOS EOS EOS EOS EOS EOS EOS EOS EOS EOS EOS EOS EOS EOS EOS EOS EOS EOS\n",
      "next = `` me beginning you , gates EOS EOS EOS EOS EOS EOS EOS EOS EOS EOS EOS EOS EOS EOS EOS EOS EOS EOS EOS EOS EOS EOS EOS EOS\n",
      "pred_prev = on she stood she me me them in put EOS of EOS EOS on on on she she she she she she in in in in EOS EOS EOS EOS\n",
      "pred_next = `` me . . . . . EOS EOS EOS EOS EOS EOS EOS EOS EOS EOS EOS EOS EOS EOS EOS EOS EOS EOS EOS EOS EOS EOS EOS\n",
      "Loss improved from 15.749300479888916 to 15.664655542373657\n",
      "saving model at ./saved_models/skip-best\n"
     ]
    },
    {
     "name": "stderr",
     "output_type": "stream",
     "text": [
      "  0%|          | 1300/312500 [16:05<42:07:30,  2.05it/s] "
     ]
    },
    {
     "name": "stdout",
     "output_type": "stream",
     "text": [
      "Iteration 1300: time = 0:01:10.618762 last_best_loss = 15.664655542373657, this_loss = 13.528192520141602\n",
      "prev = in hear me perfect container they . matt possibly UNK to they . leaving and night kisses EOS EOS EOS EOS EOS EOS EOS EOS EOS EOS EOS EOS EOS\n",
      "next = along UNK place my , cover up married hmm UNK 's he me clean purple , cover UNK tries UNK to steering `` pink sure i family asked to EOS\n",
      "pred_prev = in years me them they they . red they UNK to they . something and 've EOS EOS EOS EOS EOS EOS EOS EOS EOS EOS they they they they\n",
      "pred_next = UNK UNK UNK UNK UNK UNK UNK UNK UNK UNK UNK EOS EOS EOS EOS EOS EOS EOS EOS EOS EOS EOS EOS EOS EOS EOS EOS EOS EOS EOS\n",
      "Loss improved from 15.664655542373657 to 15.511477613449097\n",
      "saving model at ./saved_models/skip-best\n"
     ]
    },
    {
     "name": "stderr",
     "output_type": "stream",
     "text": [
      "  0%|          | 1400/312500 [17:24<41:57:14,  2.06it/s] "
     ]
    },
    {
     "name": "stdout",
     "output_type": "stream",
     "text": [
      "Iteration 1400: time = 0:01:18.281779 last_best_loss = 15.511477613449097, this_loss = 15.18903923034668\n",
      "prev = the right enough on that instead UNK innocent out so only n't that curious for thing one like EOS EOS EOS EOS EOS EOS EOS EOS EOS EOS EOS EOS\n",
      "next = the touch have . especially UNK y under spent as i or UNK that > year EOS EOS EOS EOS EOS EOS EOS EOS EOS EOS EOS EOS EOS EOS\n",
      "pred_prev = the right on on that by UNK for that so that n't that put on on looked like EOS of EOS EOS EOS EOS EOS EOS EOS EOS on on\n",
      "pred_next = the UNK UNK UNK UNK UNK UNK EOS EOS EOS EOS EOS EOS EOS EOS EOS EOS EOS EOS EOS EOS EOS EOS EOS EOS EOS EOS EOS EOS EOS\n",
      "Loss improved from 15.511477613449097 to 15.43764271736145\n",
      "saving model at ./saved_models/skip-best\n"
     ]
    },
    {
     "name": "stderr",
     "output_type": "stream",
     "text": [
      "  0%|          | 1500/312500 [18:39<42:00:40,  2.06it/s] "
     ]
    },
    {
     "name": "stdout",
     "output_type": "stream",
     "text": [
      "Iteration 1500: time = 0:01:15.173144 last_best_loss = 15.43764271736145, this_loss = 14.594884872436523\n",
      "prev = despite warm EOS EOS EOS EOS EOS EOS EOS EOS EOS EOS EOS EOS EOS EOS EOS EOS EOS EOS EOS EOS EOS EOS EOS EOS EOS EOS EOS EOS\n",
      "next = wand what you know put around about UNK `` be EOS EOS EOS EOS EOS EOS EOS EOS EOS EOS EOS EOS EOS EOS EOS EOS EOS EOS EOS EOS\n",
      "pred_prev = provides warm EOS of EOS EOS EOS EOS EOS EOS EOS EOS EOS EOS EOS EOS EOS EOS EOS EOS EOS EOS EOS EOS EOS EOS EOS EOS EOS EOS\n",
      "pred_next = the UNK UNK UNK UNK UNK EOS EOS EOS EOS EOS EOS EOS EOS EOS EOS EOS EOS EOS EOS EOS EOS EOS EOS EOS EOS EOS EOS EOS EOS\n",
      "Loss improved from 15.43764271736145 to 15.324512338638305\n",
      "saving model at ./saved_models/skip-best\n"
     ]
    },
    {
     "name": "stderr",
     "output_type": "stream",
     "text": [
      "  1%|          | 1600/312500 [19:47<41:54:50,  2.06it/s] "
     ]
    },
    {
     "name": "stdout",
     "output_type": "stream",
     "text": [
      "Iteration 1600: time = 0:01:08.654885 last_best_loss = 15.324512338638305, this_loss = 16.40969467163086\n",
      "prev = her boy UNK UNK ... took , led just `` '' scares travis down wide EOS EOS EOS EOS EOS EOS EOS EOS EOS EOS EOS EOS EOS EOS EOS\n",
      "next = about in something shooting heading her UNK arkansas but UNK can in shadowhunter chris , thousands bright lair but , apparently to floor EOS EOS EOS EOS EOS EOS EOS\n",
      "pred_prev = her boy UNK UNK '' her , than just `` '' ... ... ... EOS EOS of EOS EOS EOS UNK UNK UNK UNK UNK UNK UNK UNK UNK UNK\n",
      "pred_next = `` '' UNK UNK UNK UNK UNK UNK UNK EOS EOS EOS EOS EOS EOS EOS EOS EOS EOS EOS EOS EOS EOS EOS EOS EOS EOS EOS EOS EOS\n",
      "Loss improved from 15.324512338638305 to 15.294433069229125\n",
      "saving model at ./saved_models/skip-best\n"
     ]
    },
    {
     "name": "stderr",
     "output_type": "stream",
     "text": [
      "  1%|          | 1700/312500 [21:03<41:27:26,  2.08it/s] "
     ]
    },
    {
     "name": "stdout",
     "output_type": "stream",
     "text": [
      "Iteration 1700: time = 0:01:15.955545 last_best_loss = 15.294433069229125, this_loss = 15.178226470947266\n",
      "prev = UNK attention , . smiled feel and . number to everyone change move think . stuff gage UNK picture , peace over seventeen to hugh EOS EOS EOS EOS EOS\n",
      "next = UNK UNK do mountain too want . waistcoat his EOS EOS EOS EOS EOS EOS EOS EOS EOS EOS EOS EOS EOS EOS EOS EOS EOS EOS EOS EOS EOS\n",
      "pred_prev = UNK , . . feel to and . ; to took . think think . lot UNK UNK to , i i sun to EOS EOS of EOS EOS EOS\n",
      "pred_next = UNK UNK UNK UNK UNK UNK UNK EOS EOS EOS EOS EOS EOS EOS EOS EOS EOS EOS EOS EOS EOS EOS EOS EOS EOS EOS EOS EOS EOS EOS\n",
      "Loss improved from 15.294433069229125 to 15.215843439102173\n",
      "saving model at ./saved_models/skip-best\n"
     ]
    },
    {
     "name": "stderr",
     "output_type": "stream",
     "text": [
      "  1%|          | 1800/312500 [22:18<42:20:24,  2.04it/s] "
     ]
    },
    {
     "name": "stdout",
     "output_type": "stream",
     "text": [
      "Iteration 1800: time = 0:01:14.316582 last_best_loss = 15.215843439102173, this_loss = 13.585145950317383\n",
      "prev = belt groin were any taking UNK to people up like earth another she shirt she say UNK the we ca the were , see have . fought EOS EOS EOS\n",
      "next = the isnt that another wove killed immortal best no . UNK offered UNK for out brain move EOS EOS EOS EOS EOS EOS EOS EOS EOS EOS EOS EOS EOS\n",
      "pred_prev = see were were before UNK UNK to she up like she she she UNK UNK the UNK the were him were were ... before . . EOS EOS of EOS\n",
      "pred_next = the UNK UNK UNK UNK UNK UNK UNK UNK UNK UNK UNK UNK UNK EOS EOS EOS EOS EOS EOS EOS EOS EOS EOS EOS EOS EOS EOS EOS EOS\n",
      "Loss improved from 15.215843439102173 to 15.031205129623412\n",
      "saving model at ./saved_models/skip-best\n"
     ]
    },
    {
     "name": "stderr",
     "output_type": "stream",
     "text": [
      "  1%|          | 1900/312500 [23:36<41:36:56,  2.07it/s] "
     ]
    },
    {
     "name": "stdout",
     "output_type": "stream",
     "text": [
      "Iteration 1900: time = 0:01:18.474309 last_best_loss = 15.031205129623412, this_loss = 15.419419288635254\n",
      "prev = jeans neck EOS EOS EOS EOS EOS EOS EOS EOS EOS EOS EOS EOS EOS EOS EOS EOS EOS EOS EOS EOS EOS EOS EOS EOS EOS EOS EOS EOS\n",
      "next = squeaking neck EOS EOS EOS EOS EOS EOS EOS EOS EOS EOS EOS EOS EOS EOS EOS EOS EOS EOS EOS EOS EOS EOS EOS EOS EOS EOS EOS EOS\n",
      "pred_prev = jeans neck EOS of EOS EOS EOS EOS EOS EOS EOS EOS EOS EOS EOS EOS EOS EOS EOS EOS EOS EOS EOS EOS EOS EOS EOS EOS EOS EOS\n",
      "pred_next = the UNK EOS EOS EOS EOS EOS EOS EOS EOS EOS EOS EOS EOS EOS EOS EOS EOS EOS EOS EOS EOS EOS EOS EOS EOS EOS EOS EOS EOS\n",
      "Loss improved from 15.031205129623412 to 14.98410768508911\n",
      "saving model at ./saved_models/skip-best\n"
     ]
    },
    {
     "name": "stderr",
     "output_type": "stream",
     "text": [
      "  1%|          | 2000/312500 [24:43<41:22:21,  2.08it/s] "
     ]
    },
    {
     "name": "stdout",
     "output_type": "stream",
     "text": [
      "Iteration 2000: time = 0:01:06.915937 last_best_loss = 14.98410768508911, this_loss = 14.1798734664917\n",
      "prev = he then the both died trouble EOS EOS EOS EOS EOS EOS EOS EOS EOS EOS EOS EOS EOS EOS EOS EOS EOS EOS EOS EOS EOS EOS EOS EOS\n",
      "next = limit . 'm time his EOS EOS EOS EOS EOS EOS EOS EOS EOS EOS EOS EOS EOS EOS EOS EOS EOS EOS EOS EOS EOS EOS EOS EOS EOS\n",
      "pred_prev = he then the then way trouble EOS of EOS EOS EOS EOS EOS EOS EOS EOS EOS EOS EOS EOS EOS EOS EOS EOS EOS EOS EOS EOS EOS EOS\n",
      "pred_next = the the EOS EOS EOS EOS EOS EOS EOS EOS EOS EOS EOS EOS EOS EOS EOS EOS EOS EOS EOS EOS EOS EOS EOS EOS EOS EOS EOS EOS\n",
      "Loss improved from 14.98410768508911 to 14.882868719100951\n",
      "saving model at ./saved_models/skip-best\n"
     ]
    },
    {
     "name": "stderr",
     "output_type": "stream",
     "text": [
      "  1%|          | 2100/312500 [25:52<42:12:06,  2.04it/s] "
     ]
    },
    {
     "name": "stdout",
     "output_type": "stream",
     "text": [
      "Iteration 2100: time = 0:01:09.396876 last_best_loss = 14.882868719100951, this_loss = 14.693477630615234\n"
     ]
    },
    {
     "name": "stderr",
     "output_type": "stream",
     "text": [
      "  1%|          | 2101/312500 [26:15<600:37:54,  6.97s/it]"
     ]
    },
    {
     "name": "stdout",
     "output_type": "stream",
     "text": [
      "prev = from he came door ? face an EOS EOS EOS EOS EOS EOS EOS EOS EOS EOS EOS EOS EOS EOS EOS EOS EOS EOS EOS EOS EOS EOS EOS\n",
      "next = someone way , rather i english UNK looked vet UNK to EOS EOS EOS EOS EOS EOS EOS EOS EOS EOS EOS EOS EOS EOS EOS EOS EOS EOS EOS\n",
      "pred_prev = from he came door ? face an an EOS EOS EOS EOS he UNK UNK UNK UNK UNK EOS EOS EOS EOS EOS EOS EOS EOS an an an EOS\n",
      "pred_next = . UNK UNK UNK UNK EOS EOS EOS EOS EOS EOS EOS EOS EOS EOS EOS EOS EOS EOS EOS EOS EOS EOS EOS EOS EOS EOS EOS EOS EOS\n"
     ]
    },
    {
     "name": "stderr",
     "output_type": "stream",
     "text": [
      "  1%|          | 2200/312500 [27:03<41:23:06,  2.08it/s] "
     ]
    },
    {
     "name": "stdout",
     "output_type": "stream",
     "text": [
      "Iteration 2200: time = 0:01:10.370963 last_best_loss = 14.882868719100951, this_loss = 15.838911056518555\n"
     ]
    },
    {
     "name": "stderr",
     "output_type": "stream",
     "text": [
      "  1%|          | 2201/312500 [27:28<678:12:56,  7.87s/it]"
     ]
    },
    {
     "name": "stdout",
     "output_type": "stream",
     "text": [
      "prev = aimed who super UNK the cock no i car crunching EOS EOS EOS EOS EOS EOS EOS EOS EOS EOS EOS EOS EOS EOS EOS EOS EOS EOS EOS EOS\n",
      "next = . barely '' term stomach . cruel just i understood movement my nice bit EOS EOS EOS EOS EOS EOS EOS EOS EOS EOS EOS EOS EOS EOS EOS EOS\n",
      "pred_prev = who who UNK UNK the reason no i car hell EOS hand EOS EOS EOS EOS EOS UNK UNK UNK UNK UNK UNK EOS EOS EOS EOS EOS EOS EOS\n",
      "pred_next = the '' . . . . EOS . EOS EOS EOS EOS EOS EOS EOS EOS EOS EOS EOS EOS EOS EOS EOS EOS EOS EOS EOS EOS EOS EOS\n"
     ]
    },
    {
     "name": "stderr",
     "output_type": "stream",
     "text": [
      "  1%|          | 2300/312500 [28:16<42:16:55,  2.04it/s] "
     ]
    },
    {
     "name": "stdout",
     "output_type": "stream",
     "text": [
      "Iteration 2300: time = 0:01:13.548324 last_best_loss = 14.882868719100951, this_loss = 14.124530792236328\n",
      "prev = help UNK sleek UNK letting nearly UNK . poorly be EOS EOS EOS EOS EOS EOS EOS EOS EOS EOS EOS EOS EOS EOS EOS EOS EOS EOS EOS EOS\n",
      "next = he been him . ... like usual face ? fury EOS EOS EOS EOS EOS EOS EOS EOS EOS EOS EOS EOS EOS EOS EOS EOS EOS EOS EOS EOS\n",
      "pred_prev = help UNK UNK UNK babe UNK UNK . cats EOS EOS EOS EOS UNK UNK UNK UNK UNK UNK UNK UNK UNK UNK UNK UNK UNK UNK UNK UNK UNK\n",
      "pred_next = `` UNK UNK UNK UNK EOS EOS EOS EOS EOS EOS EOS EOS EOS EOS EOS EOS EOS EOS EOS EOS EOS EOS EOS EOS EOS EOS EOS EOS EOS\n",
      "Loss improved from 14.882868719100951 to 14.862291193008422\n",
      "saving model at ./saved_models/skip-best\n"
     ]
    },
    {
     "name": "stderr",
     "output_type": "stream",
     "text": [
      "  1%|          | 2400/312500 [29:29<41:50:00,  2.06it/s] "
     ]
    },
    {
     "name": "stdout",
     "output_type": "stream",
     "text": [
      "Iteration 2400: time = 0:01:12.252481 last_best_loss = 14.862291193008422, this_loss = 15.45593547821045\n",
      "prev = the me beneath better i growing sarcastically your that even just i anymore UNK reminder . fist EOS EOS EOS EOS EOS EOS EOS EOS EOS EOS EOS EOS EOS\n",
      "next = the wall as . fist UNK entrance , go said , not EOS EOS EOS EOS EOS EOS EOS EOS EOS EOS EOS EOS EOS EOS EOS EOS EOS EOS\n",
      "pred_prev = the me legs better i speak ) who that even just i UNK UNK . . UNK EOS of EOS . . . i no no no no no i\n",
      "pred_next = the UNK UNK UNK UNK UNK UNK UNK EOS EOS EOS EOS EOS EOS EOS EOS EOS EOS EOS EOS EOS EOS EOS EOS EOS EOS EOS EOS EOS EOS\n",
      "Loss improved from 14.862291193008422 to 14.802725219726563\n",
      "saving model at ./saved_models/skip-best\n"
     ]
    },
    {
     "name": "stderr",
     "output_type": "stream",
     "text": [
      "  1%|          | 2500/312500 [30:42<41:48:38,  2.06it/s] "
     ]
    },
    {
     "name": "stdout",
     "output_type": "stream",
     "text": [
      "Iteration 2500: time = 0:01:13.496156 last_best_loss = 14.802725219726563, this_loss = 14.823862075805664\n"
     ]
    },
    {
     "name": "stderr",
     "output_type": "stream",
     "text": [
      "  1%|          | 2501/312500 [31:10<751:38:25,  8.73s/it]"
     ]
    },
    {
     "name": "stdout",
     "output_type": "stream",
     "text": [
      "prev = UNK . while 'm its he i sweet EOS EOS EOS EOS EOS EOS EOS EOS EOS EOS EOS EOS EOS EOS EOS EOS EOS EOS EOS EOS EOS EOS\n",
      "next = ... last taking if UNK the '' glanced her that make UNK seth UNK to where as my time UNK the new real only shoulders and i school feet EOS\n",
      "pred_prev = UNK . girl 'm its i i feet EOS of EOS EOS EOS EOS EOS EOS EOS EOS EOS EOS EOS EOS EOS EOS EOS EOS EOS EOS EOS EOS\n",
      "pred_next = the UNK UNK UNK UNK UNK UNK UNK UNK UNK UNK UNK UNK UNK UNK UNK UNK UNK UNK UNK UNK UNK UNK EOS EOS EOS EOS EOS EOS EOS\n"
     ]
    },
    {
     "name": "stderr",
     "output_type": "stream",
     "text": [
      "  1%|          | 2600/312500 [31:58<43:21:17,  1.99it/s] "
     ]
    },
    {
     "name": "stdout",
     "output_type": "stream",
     "text": [
      "Iteration 2600: time = 0:01:16.165799 last_best_loss = 14.802725219726563, this_loss = 13.337154388427734\n"
     ]
    },
    {
     "name": "stderr",
     "output_type": "stream",
     "text": [
      "  1%|          | 2601/312500 [32:25<721:15:11,  8.38s/it]"
     ]
    },
    {
     "name": "stdout",
     "output_type": "stream",
     "text": [
      "prev = us out me became moon UNK out line she patriarch did wolf 'd , . involuntarily from she out were records such EOS EOS EOS EOS EOS EOS EOS EOS\n",
      "next = looked and 'd me me being , freyja gave . nothing can EOS EOS EOS EOS EOS EOS EOS EOS EOS EOS EOS EOS EOS EOS EOS EOS EOS EOS\n",
      "pred_prev = us out me them UNK UNK out line she out did twenty 'd , . scene might she out did tone 'd EOS of EOS EOS EOS UNK UNK UNK\n",
      "pred_next = . . . . . . . . . . . . . . . . . . . . . . . . . . . EOS EOS EOS\n"
     ]
    },
    {
     "name": "stderr",
     "output_type": "stream",
     "text": [
      "  1%|          | 2700/312500 [33:14<42:13:06,  2.04it/s] "
     ]
    },
    {
     "name": "stdout",
     "output_type": "stream",
     "text": [
      "Iteration 2700: time = 0:01:15.298177 last_best_loss = 14.802725219726563, this_loss = 13.424212455749512\n",
      "prev = sore take for the came go . something words at days UNK the rasping in from UNK EOS hand EOS EOS EOS EOS EOS EOS EOS EOS EOS EOS EOS\n",
      "next = you '' december their time part was even her was alone EOS EOS EOS EOS EOS EOS EOS EOS EOS EOS EOS EOS EOS EOS EOS EOS EOS EOS EOS\n",
      "pred_prev = sore take for the go go . much words at days UNK the every from from UNK EOS hand EOS EOS take take take take take take take UNK UNK\n",
      "pred_next = UNK UNK UNK UNK UNK UNK UNK UNK UNK UNK UNK UNK UNK UNK UNK UNK UNK UNK UNK UNK UNK UNK EOS EOS EOS EOS EOS EOS EOS EOS\n",
      "Loss improved from 14.802725219726563 to 14.690973806381226\n",
      "saving model at ./saved_models/skip-best\n"
     ]
    },
    {
     "name": "stderr",
     "output_type": "stream",
     "text": [
      "  1%|          | 2800/312500 [34:27<42:03:08,  2.05it/s] "
     ]
    },
    {
     "name": "stdout",
     "output_type": "stream",
     "text": [
      "Iteration 2800: time = 0:01:13.113983 last_best_loss = 14.690973806381226, this_loss = 14.656946182250977\n",
      "prev = it never UNK scent in taken they was than , was mentioned to if EOS EOS EOS EOS EOS EOS EOS EOS EOS EOS EOS EOS EOS EOS EOS EOS\n",
      "next = a the look - he bitterness EOS EOS EOS EOS EOS EOS EOS EOS EOS EOS EOS EOS EOS EOS EOS EOS EOS EOS EOS EOS EOS EOS EOS EOS\n",
      "pred_prev = it never UNK was was taken they was than , was if to if EOS of EOS EOS EOS EOS EOS EOS EOS EOS EOS EOS EOS EOS EOS EOS\n",
      "pred_next = a the EOS EOS EOS EOS EOS EOS EOS EOS EOS EOS EOS EOS EOS EOS EOS EOS EOS EOS EOS EOS EOS EOS EOS EOS EOS EOS EOS EOS\n",
      "Loss improved from 14.690973806381226 to 14.64229621887207\n",
      "saving model at ./saved_models/skip-best\n"
     ]
    },
    {
     "name": "stderr",
     "output_type": "stream",
     "text": [
      "  1%|          | 2900/312500 [35:38<41:59:03,  2.05it/s] "
     ]
    },
    {
     "name": "stdout",
     "output_type": "stream",
     "text": [
      "Iteration 2900: time = 0:01:11.686497 last_best_loss = 14.64229621887207, this_loss = 14.560609817504883\n"
     ]
    },
    {
     "name": "stderr",
     "output_type": "stream",
     "text": [
      "  1%|          | 2901/312500 [36:00<574:01:16,  6.67s/it]"
     ]
    },
    {
     "name": "stdout",
     "output_type": "stream",
     "text": [
      "prev = one like against door down herself they up make wish he UNK sky EOS EOS EOS EOS EOS EOS EOS EOS EOS EOS EOS EOS EOS EOS EOS EOS EOS\n",
      "next = and says EOS EOS EOS EOS EOS EOS EOS EOS EOS EOS EOS EOS EOS EOS EOS EOS EOS EOS EOS EOS EOS EOS EOS EOS EOS EOS EOS EOS\n",
      "pred_prev = one like against door they should they back make UNK he UNK sky EOS of EOS EOS EOS EOS EOS EOS EOS EOS EOS EOS EOS EOS EOS EOS EOS\n",
      "pred_next = UNK UNK EOS EOS EOS EOS EOS EOS EOS EOS EOS EOS EOS EOS EOS EOS EOS EOS EOS EOS EOS EOS EOS EOS EOS EOS EOS EOS EOS EOS\n"
     ]
    },
    {
     "name": "stderr",
     "output_type": "stream",
     "text": [
      "  1%|          | 3000/312500 [36:47<42:03:14,  2.04it/s] "
     ]
    },
    {
     "name": "stdout",
     "output_type": "stream",
     "text": [
      "Iteration 3000: time = 0:01:09.010013 last_best_loss = 14.64229621887207, this_loss = 13.219854354858398\n",
      "prev = UNK right if to these , UNK to about ? i including ordered and in some shall no . managed EOS EOS EOS EOS EOS EOS EOS EOS EOS EOS\n",
      "next = . anything '' too to letting 's out im but try sound in around are UNK nods searching is they men but EOS EOS EOS EOS EOS EOS EOS EOS\n",
      "pred_prev = UNK right if to about , UNK to about ? i including some and . some probably no . managed EOS of EOS EOS EOS EOS ? ? ? ?\n",
      "pred_next = `` '' . . . . . . . . . . . . . . EOS EOS EOS EOS EOS EOS EOS EOS EOS EOS EOS EOS EOS EOS\n",
      "Loss improved from 14.64229621887207 to 14.614100027084351\n",
      "saving model at ./saved_models/skip-best\n"
     ]
    },
    {
     "name": "stderr",
     "output_type": "stream",
     "text": [
      "  1%|          | 3100/312500 [38:04<41:42:07,  2.06it/s] "
     ]
    },
    {
     "name": "stdout",
     "output_type": "stream",
     "text": [
      "Iteration 3100: time = 0:01:17.048802 last_best_loss = 14.614100027084351, this_loss = 15.356971740722656\n"
     ]
    },
    {
     "name": "stderr",
     "output_type": "stream",
     "text": [
      "  1%|          | 3101/312500 [38:27<610:58:32,  7.11s/it]"
     ]
    },
    {
     "name": "stdout",
     "output_type": "stream",
     "text": [
      "prev = . looking above '' confused EOS EOS EOS EOS EOS EOS EOS EOS EOS EOS EOS EOS EOS EOS EOS EOS EOS EOS EOS EOS EOS EOS EOS EOS EOS\n",
      "next = was walking me wide silent UNK to it showed ? i UNK plus EOS EOS EOS EOS EOS EOS EOS EOS EOS EOS EOS EOS EOS EOS EOS EOS EOS\n",
      "pred_prev = . looking above '' seem EOS of EOS EOS EOS EOS EOS EOS EOS EOS EOS EOS EOS EOS EOS EOS EOS EOS EOS EOS EOS EOS EOS EOS EOS\n",
      "pred_next = it '' '' UNK UNK UNK EOS EOS EOS EOS EOS EOS EOS EOS EOS EOS EOS EOS EOS EOS EOS EOS EOS EOS EOS EOS EOS EOS EOS EOS\n"
     ]
    },
    {
     "name": "stderr",
     "output_type": "stream",
     "text": [
      "  1%|          | 3200/312500 [39:15<41:51:12,  2.05it/s] "
     ]
    },
    {
     "name": "stdout",
     "output_type": "stream",
     "text": [
      "Iteration 3200: time = 0:01:10.479737 last_best_loss = 14.614100027084351, this_loss = 14.30723762512207\n",
      "prev = her i breathless has breaking never force UNK 'm he behind up his EOS EOS EOS EOS EOS EOS EOS EOS EOS EOS EOS EOS EOS EOS EOS EOS EOS\n",
      "next = `` part in even try EOS EOS EOS EOS EOS EOS EOS EOS EOS EOS EOS EOS EOS EOS EOS EOS EOS EOS EOS EOS EOS EOS EOS EOS EOS\n",
      "pred_prev = her i has has never never temeraire UNK 'm he behind up his of his EOS UNK UNK UNK UNK UNK UNK UNK UNK UNK UNK UNK UNK UNK UNK\n",
      "pred_next = UNK an an in EOS EOS EOS EOS EOS EOS EOS EOS EOS EOS EOS EOS EOS EOS EOS EOS EOS EOS EOS EOS EOS EOS EOS EOS EOS EOS\n",
      "Loss improved from 14.614100027084351 to 14.594209003448487\n",
      "saving model at ./saved_models/skip-best\n"
     ]
    },
    {
     "name": "stderr",
     "output_type": "stream",
     "text": [
      "  1%|          | 3300/312500 [40:25<41:59:18,  2.05it/s] "
     ]
    },
    {
     "name": "stdout",
     "output_type": "stream",
     "text": [
      "Iteration 3300: time = 0:01:10.508615 last_best_loss = 14.594209003448487, this_loss = 14.301769256591797\n"
     ]
    },
    {
     "name": "stderr",
     "output_type": "stream",
     "text": [
      "  1%|          | 3301/312500 [40:50<658:00:19,  7.66s/it]"
     ]
    },
    {
     "name": "stdout",
     "output_type": "stream",
     "text": [
      "prev = the front before got him UNK for could the hold feeling UNK said been he way , not his EOS EOS EOS EOS EOS EOS EOS EOS EOS EOS EOS\n",
      "next = UNK has lord 's yoga 's was giving EOS EOS EOS EOS EOS EOS EOS EOS EOS EOS EOS EOS EOS EOS EOS EOS EOS EOS EOS EOS EOS EOS\n",
      "pred_prev = the front before could him UNK for could the front feeling UNK said been he way , not his of his his UNK UNK UNK UNK UNK UNK UNK UNK\n",
      "pred_next = it he he he he EOS EOS EOS EOS EOS EOS EOS EOS EOS EOS EOS EOS EOS EOS EOS EOS EOS EOS EOS EOS EOS EOS EOS EOS EOS\n"
     ]
    },
    {
     "name": "stderr",
     "output_type": "stream",
     "text": [
      "  1%|          | 3361/312500 [41:19<41:41:31,  2.06it/s] "
     ]
    }
   ],
   "source": [
    "i = 0\n",
    "for batch_sentences, lengths in tqdm(loader):\n",
    "    loss, previous_sentence, next_sentence, predicted_previous_ids, predicted_next_ids  = model(batch_sentences, \n",
    "                                                                                                lengths)\n",
    "    optimizer.zero_grad()\n",
    "    loss.backward()\n",
    "    optimizer.step()\n",
    "    if i % 100 == 0:\n",
    "        utility.check_model(model, i, loss, previous_sentence, next_sentence, \n",
    "                            predicted_previous_ids, predicted_next_ids)\n",
    "    i += 1"
   ]
  },
  {
   "cell_type": "code",
   "execution_count": null,
   "metadata": {},
   "outputs": [],
   "source": []
  }
 ],
 "metadata": {
  "kernelspec": {
   "display_name": "Python 3",
   "language": "python",
   "name": "python3"
  },
  "language_info": {
   "codemirror_mode": {
    "name": "ipython",
    "version": 3
   },
   "file_extension": ".py",
   "mimetype": "text/x-python",
   "name": "python",
   "nbconvert_exporter": "python",
   "pygments_lexer": "ipython3",
   "version": "3.7.1"
  }
 },
 "nbformat": 4,
 "nbformat_minor": 2
}
