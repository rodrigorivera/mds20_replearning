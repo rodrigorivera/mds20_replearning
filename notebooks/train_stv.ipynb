{
 "cells": [
  {
   "cell_type": "code",
   "execution_count": 1,
   "metadata": {},
   "outputs": [],
   "source": [
    "import sys\n",
    "sys.path.append('/home/eromanenkova/')\n",
    "sys.path.append('/home/eromanenkova/'+'mds20_replearning')"
   ]
  },
  {
   "cell_type": "code",
   "execution_count": 2,
   "metadata": {},
   "outputs": [],
   "source": [
    "import warnings\n",
    "warnings.filterwarnings('ignore',category=FutureWarning)\n",
    "\n",
    "import pytorch_lightning as pl\n",
    "from mds20_replearning.scripts.pl_data import DefaultDataModule\n",
    "from mds20_replearning.scripts.skip_thoughts.pl_model import SkipThoughtsModule"
   ]
  },
  {
   "cell_type": "code",
   "execution_count": 3,
   "metadata": {},
   "outputs": [],
   "source": [
    "import pickle\n",
    "with open('w2i_mapping.pickle', 'rb') as f:\n",
    "    w2i_mapping = pickle.load(f)"
   ]
  },
  {
   "cell_type": "code",
   "execution_count": 4,
   "metadata": {},
   "outputs": [],
   "source": [
    "model = SkipThoughtsModule(vocab_size=20000, embedding_dim=620, encoder_dim=2400, lr=2e-4) "
   ]
  },
  {
   "cell_type": "code",
   "execution_count": 5,
   "metadata": {},
   "outputs": [],
   "source": [
    "bookcorpus = DefaultDataModule(128, \"/home/eromanenkova/mds20_replearning/data/part_book_corpus.txt\", \n",
    "                               valid_split=0.1, w2i_mapping=w2i_mapping)"
   ]
  },
  {
   "cell_type": "code",
   "execution_count": 6,
   "metadata": {},
   "outputs": [
    {
     "name": "stderr",
     "output_type": "stream",
     "text": [
      "GPU available: True, used: True\n",
      "TPU available: False, using: 0 TPU cores\n",
      "LOCAL_RANK: 0 - CUDA_VISIBLE_DEVICES: [0,1]\n"
     ]
    }
   ],
   "source": [
    "trainer = pl.Trainer(gpus=[0], max_epochs=1)  # set required resources here"
   ]
  },
  {
   "cell_type": "code",
   "execution_count": 7,
   "metadata": {
    "pycharm": {
     "name": "#%%\n"
    }
   },
   "outputs": [
    {
     "name": "stderr",
     "output_type": "stream",
     "text": [
      "\n",
      "  | Name         | Type             | Params\n",
      "--------------------------------------------------\n",
      "0 | skipthoughts | SkipThoughtModel | 60.1 M\n",
      "/home/eromanenkova/anaconda3/lib/python3.7/site-packages/pytorch_lightning/utilities/distributed.py:45: UserWarning: The dataloader, val dataloader 0, does not have many workers which may be a bottleneck. Consider increasing the value of the `num_workers` argument` (try 6 which is the number of cpus on this machine) in the `DataLoader` init to improve performance.\n",
      "  warnings.warn(*args, **kwargs)\n"
     ]
    },
    {
     "data": {
      "application/vnd.jupyter.widget-view+json": {
       "model_id": "",
       "version_major": 2,
       "version_minor": 0
      },
      "text/plain": [
       "HBox(children=(FloatProgress(value=1.0, bar_style='info', description='Validation sanity check', layout=Layout…"
      ]
     },
     "metadata": {},
     "output_type": "display_data"
    },
    {
     "name": "stdout",
     "output_type": "stream",
     "text": [
      "torch.Size([128, 48])\n",
      "torch.Size([128, 32])\n",
      "\r"
     ]
    },
    {
     "name": "stderr",
     "output_type": "stream",
     "text": [
      "/home/eromanenkova/anaconda3/lib/python3.7/site-packages/pytorch_lightning/utilities/distributed.py:45: UserWarning: The dataloader, train dataloader, does not have many workers which may be a bottleneck. Consider increasing the value of the `num_workers` argument` (try 6 which is the number of cpus on this machine) in the `DataLoader` init to improve performance.\n",
      "  warnings.warn(*args, **kwargs)\n"
     ]
    },
    {
     "data": {
      "application/vnd.jupyter.widget-view+json": {
       "model_id": "89783ec6094c434788523960b802053b",
       "version_major": 2,
       "version_minor": 0
      },
      "text/plain": [
       "HBox(children=(FloatProgress(value=1.0, bar_style='info', description='Training', layout=Layout(flex='2'), max…"
      ]
     },
     "metadata": {},
     "output_type": "display_data"
    },
    {
     "name": "stdout",
     "output_type": "stream",
     "text": [
      "torch.Size([128, 35])\n",
      "torch.Size([128, 29])\n",
      "torch.Size([128, 25])\n",
      "torch.Size([128, 26])\n",
      "torch.Size([128, 25])\n",
      "torch.Size([128, 33])\n",
      "torch.Size([128, 41])\n",
      "torch.Size([128, 36])\n",
      "torch.Size([128, 37])\n",
      "torch.Size([128, 32])\n",
      "torch.Size([128, 45])\n",
      "torch.Size([128, 43])\n",
      "torch.Size([128, 30])\n",
      "torch.Size([128, 38])\n",
      "torch.Size([128, 31])\n",
      "torch.Size([128, 37])\n",
      "torch.Size([128, 33])\n",
      "torch.Size([128, 34])\n",
      "torch.Size([128, 30])\n",
      "torch.Size([128, 42])\n",
      "torch.Size([128, 31])\n",
      "torch.Size([128, 25])\n",
      "torch.Size([128, 30])\n",
      "torch.Size([128, 37])\n",
      "torch.Size([128, 27])\n",
      "torch.Size([128, 35])\n",
      "torch.Size([128, 26])\n",
      "torch.Size([128, 36])\n",
      "torch.Size([128, 24])\n",
      "torch.Size([128, 31])\n",
      "torch.Size([128, 75])\n",
      "torch.Size([128, 44])\n",
      "torch.Size([128, 49])\n",
      "torch.Size([128, 42])\n",
      "torch.Size([128, 40])\n",
      "torch.Size([128, 44])\n",
      "torch.Size([128, 54])\n",
      "torch.Size([128, 49])\n",
      "torch.Size([128, 56])\n",
      "torch.Size([128, 45])\n",
      "torch.Size([128, 45])\n",
      "torch.Size([128, 49])\n",
      "torch.Size([128, 45])\n",
      "torch.Size([128, 61])\n",
      "torch.Size([128, 57])\n",
      "torch.Size([128, 43])\n",
      "torch.Size([128, 46])\n",
      "torch.Size([128, 57])\n",
      "torch.Size([128, 46])\n",
      "torch.Size([128, 55])\n",
      "torch.Size([128, 43])\n",
      "torch.Size([128, 47])\n",
      "torch.Size([128, 38])\n",
      "torch.Size([128, 44])\n",
      "torch.Size([128, 62])\n",
      "torch.Size([128, 42])\n",
      "torch.Size([128, 48])\n",
      "torch.Size([128, 45])\n",
      "torch.Size([128, 38])\n",
      "torch.Size([128, 53])\n",
      "torch.Size([128, 55])\n",
      "torch.Size([128, 63])\n",
      "torch.Size([128, 53])\n",
      "torch.Size([128, 54])\n",
      "torch.Size([128, 43])\n",
      "torch.Size([128, 48])\n",
      "torch.Size([128, 60])\n",
      "torch.Size([128, 42])\n",
      "torch.Size([128, 42])\n",
      "torch.Size([128, 65])\n",
      "torch.Size([128, 62])\n",
      "torch.Size([128, 75])\n",
      "torch.Size([128, 50])\n",
      "torch.Size([128, 61])\n",
      "torch.Size([128, 49])\n",
      "torch.Size([128, 47])\n",
      "torch.Size([128, 47])\n",
      "torch.Size([128, 40])\n",
      "torch.Size([128, 58])\n",
      "torch.Size([128, 57])\n",
      "torch.Size([128, 53])\n",
      "torch.Size([128, 44])\n",
      "torch.Size([128, 36])\n",
      "torch.Size([128, 41])\n",
      "torch.Size([128, 69])\n",
      "torch.Size([128, 69])\n",
      "torch.Size([128, 45])\n",
      "torch.Size([128, 61])\n",
      "torch.Size([128, 55])\n",
      "torch.Size([128, 44])\n",
      "torch.Size([128, 47])\n",
      "torch.Size([128, 75])\n",
      "torch.Size([128, 75])\n",
      "torch.Size([128, 52])\n",
      "torch.Size([128, 50])\n",
      "torch.Size([128, 68])\n",
      "torch.Size([128, 53])\n",
      "torch.Size([128, 75])\n",
      "torch.Size([128, 75])\n",
      "torch.Size([128, 58])\n",
      "torch.Size([128, 75])\n",
      "torch.Size([128, 70])\n",
      "torch.Size([128, 44])\n",
      "torch.Size([128, 75])\n",
      "torch.Size([128, 44])\n",
      "torch.Size([128, 68])\n",
      "torch.Size([128, 62])\n",
      "torch.Size([128, 57])\n",
      "torch.Size([128, 53])\n",
      "torch.Size([128, 52])\n",
      "torch.Size([128, 35])\n",
      "torch.Size([128, 49])\n",
      "torch.Size([128, 53])\n",
      "torch.Size([128, 72])\n",
      "torch.Size([128, 61])\n",
      "torch.Size([128, 40])\n",
      "torch.Size([128, 75])\n",
      "torch.Size([128, 75])\n",
      "torch.Size([128, 75])\n",
      "torch.Size([128, 41])\n",
      "torch.Size([128, 47])\n",
      "torch.Size([128, 54])\n",
      "torch.Size([128, 47])\n",
      "torch.Size([128, 40])\n",
      "torch.Size([128, 40])\n",
      "torch.Size([128, 38])\n",
      "torch.Size([128, 41])\n",
      "torch.Size([128, 38])\n",
      "torch.Size([128, 56])\n",
      "torch.Size([128, 36])\n",
      "torch.Size([128, 49])\n",
      "torch.Size([128, 48])\n",
      "torch.Size([128, 34])\n",
      "torch.Size([128, 36])\n",
      "torch.Size([128, 42])\n",
      "torch.Size([128, 43])\n",
      "torch.Size([128, 75])\n",
      "torch.Size([128, 52])\n",
      "torch.Size([128, 45])\n",
      "torch.Size([128, 38])\n",
      "torch.Size([128, 37])\n",
      "torch.Size([128, 67])\n",
      "torch.Size([128, 34])\n",
      "torch.Size([128, 35])\n",
      "torch.Size([128, 69])\n",
      "torch.Size([128, 41])\n",
      "torch.Size([128, 47])\n",
      "torch.Size([128, 55])\n",
      "torch.Size([128, 51])\n",
      "torch.Size([128, 43])\n",
      "torch.Size([128, 47])\n",
      "torch.Size([128, 42])\n",
      "torch.Size([128, 40])\n",
      "torch.Size([128, 42])\n",
      "torch.Size([128, 36])\n",
      "torch.Size([128, 58])\n",
      "torch.Size([128, 34])\n",
      "torch.Size([128, 44])\n",
      "torch.Size([128, 47])\n",
      "torch.Size([128, 38])\n",
      "torch.Size([128, 36])\n",
      "torch.Size([128, 48])\n",
      "torch.Size([128, 53])\n",
      "torch.Size([128, 52])\n",
      "torch.Size([128, 37])\n",
      "torch.Size([128, 47])\n",
      "torch.Size([128, 43])\n",
      "torch.Size([128, 32])\n",
      "torch.Size([128, 43])\n",
      "torch.Size([128, 24])\n",
      "torch.Size([128, 32])\n",
      "torch.Size([128, 30])\n",
      "torch.Size([128, 49])\n",
      "torch.Size([128, 46])\n",
      "torch.Size([128, 26])\n",
      "torch.Size([128, 29])\n",
      "torch.Size([128, 31])\n",
      "torch.Size([128, 37])\n",
      "torch.Size([128, 36])\n",
      "torch.Size([128, 30])\n",
      "torch.Size([128, 36])\n",
      "torch.Size([128, 28])\n",
      "torch.Size([128, 43])\n"
     ]
    },
    {
     "name": "stderr",
     "output_type": "stream",
     "text": [
      "/home/eromanenkova/anaconda3/lib/python3.7/site-packages/pytorch_lightning/utilities/distributed.py:45: UserWarning: Detected KeyboardInterrupt, attempting graceful shutdown...\n",
      "  warnings.warn(*args, **kwargs)\n"
     ]
    },
    {
     "name": "stdout",
     "output_type": "stream",
     "text": [
      "\n"
     ]
    },
    {
     "data": {
      "text/plain": [
       "1"
      ]
     },
     "execution_count": 7,
     "metadata": {},
     "output_type": "execute_result"
    }
   ],
   "source": [
    "trainer.fit(model, datamodule=bookcorpus)"
   ]
  }
 ],
 "metadata": {
  "kernelspec": {
   "display_name": "Python 3",
   "language": "python",
   "name": "python3"
  },
  "language_info": {
   "codemirror_mode": {
    "name": "ipython",
    "version": 3
   },
   "file_extension": ".py",
   "mimetype": "text/x-python",
   "name": "python",
   "nbconvert_exporter": "python",
   "pygments_lexer": "ipython3",
   "version": "3.7.1"
  },
  "pycharm": {
   "stem_cell": {
    "cell_type": "raw",
    "source": [],
    "metadata": {
     "collapsed": false
    }
   }
  }
 },
 "nbformat": 4,
 "nbformat_minor": 2
}