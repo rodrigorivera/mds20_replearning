{
 "cells": [
  {
   "cell_type": "code",
   "execution_count": 15,
   "metadata": {},
   "outputs": [
    {
     "name": "stdout",
     "output_type": "stream",
     "text": [
      "The autoreload extension is already loaded. To reload it, use:\n",
      "  %reload_ext autoreload\n"
     ]
    }
   ],
   "source": [
    "%load_ext autoreload\n",
    "%autoreload"
   ]
  },
  {
   "cell_type": "code",
   "execution_count": 16,
   "metadata": {},
   "outputs": [],
   "source": [
    "from pathlib import Path\n",
    "home_path = '/home/eromanenkova/'"
   ]
  },
  {
   "cell_type": "code",
   "execution_count": 17,
   "metadata": {},
   "outputs": [],
   "source": [
    "import sys\n",
    "sys.path.append('/home/eromanenkova/')\n",
    "sys.path.append('/home/eromanenkova/mds20_replearning')"
   ]
  },
  {
   "cell_type": "code",
   "execution_count": 18,
   "metadata": {},
   "outputs": [],
   "source": [
    "from mds20_replearning.scripts.skip_thoughts.pl_model import SkipThoughtsModule\n",
    "from mds20_replearning.data.language.load import load_data"
   ]
  },
  {
   "cell_type": "code",
   "execution_count": 19,
   "metadata": {},
   "outputs": [],
   "source": [
    "model = SkipThoughtsModule(vocab_size=20000, embedding_dim=620, encoder_dim=2400, lr=2e-4) "
   ]
  },
  {
   "cell_type": "code",
   "execution_count": 20,
   "metadata": {},
   "outputs": [],
   "source": [
    "model = model.load_from_checkpoint(checkpoint_path=\"2epochs_stv_loss_2_276.ckpt\")"
   ]
  },
  {
   "cell_type": "code",
   "execution_count": 21,
   "metadata": {},
   "outputs": [],
   "source": [
    "from mds20_replearning.scripts.pl_data import DefaultDataModule"
   ]
  },
  {
   "cell_type": "code",
   "execution_count": 22,
   "metadata": {},
   "outputs": [],
   "source": [
    "import pickle\n",
    "with open('/home/eromanenkova/mds20_replearning/notebooks/w2i_mapping.pickle', 'rb') as f:\n",
    "    predefined_vocab_mapping = pickle.load(f)"
   ]
  },
  {
   "cell_type": "code",
   "execution_count": 23,
   "metadata": {},
   "outputs": [
    {
     "name": "stdout",
     "output_type": "stream",
     "text": [
      "Requirement already satisfied: gensim in /home/eromanenkova/anaconda3/lib/python3.7/site-packages (3.8.3)\n",
      "Requirement already satisfied: numpy>=1.11.3 in /home/eromanenkova/anaconda3/lib/python3.7/site-packages (from gensim) (1.17.3)\n",
      "Requirement already satisfied: scipy>=0.18.1 in /home/eromanenkova/anaconda3/lib/python3.7/site-packages (from gensim) (1.1.0)\n",
      "Requirement already satisfied: smart-open>=1.8.1 in /home/eromanenkova/anaconda3/lib/python3.7/site-packages (from gensim) (4.0.1)\n",
      "Requirement already satisfied: six>=1.5.0 in /home/eromanenkova/anaconda3/lib/python3.7/site-packages (from gensim) (1.12.0)\n"
     ]
    }
   ],
   "source": [
    "!pip install gensim"
   ]
  },
  {
   "cell_type": "code",
   "execution_count": 24,
   "metadata": {},
   "outputs": [
    {
     "name": "stderr",
     "output_type": "stream",
     "text": [
      "/home/eromanenkova/anaconda3/lib/python3.7/importlib/_bootstrap.py:219: RuntimeWarning: numpy.ufunc size changed, may indicate binary incompatibility. Expected 192 from C header, got 216 from PyObject\n",
      "  return f(*args, **kwds)\n"
     ]
    }
   ],
   "source": [
    "import gensim"
   ]
  },
  {
   "cell_type": "code",
   "execution_count": 25,
   "metadata": {},
   "outputs": [
    {
     "name": "stdout",
     "output_type": "stream",
     "text": [
      "Loading word2vec vectors at https://s3.amazonaws.com/dl4j-distribution/GoogleNews-vectors-negative300.bin.gz\n"
     ]
    }
   ],
   "source": [
    "# Load the Word2Vec model\n",
    "word2vec_path = \"https://s3.amazonaws.com/dl4j-distribution/GoogleNews-vectors-negative300.bin.gz\"\n",
    "print('Loading word2vec vectors at {}'.format(word2vec_path))\n",
    "word2vec = gensim.models.KeyedVectors.load_word2vec_format(word2vec_path, binary=True)"
   ]
  },
  {
   "cell_type": "code",
   "execution_count": null,
   "metadata": {},
   "outputs": [],
   "source": [
    "from sklearn.linear_model import LinearRegression\n",
    "import numpy as np\n",
    "import torch\n",
    "\n",
    "def get_model_embedding(embedding_layer, vocab_for_model):\n",
    "    model_embedding = []\n",
    "    for ind in vocab_for_model.values():\n",
    "        model_embedding.append(embedding_layer(torch.LongTensor([ind]).reshape(1, 1)).squeeze().tolist())\n",
    "    model_embedding = np.array(model_embedding)\n",
    "    return model_embedding\n",
    "\n",
    "def vocabulary_expansion(linear_model, embedding_layer, vocab_for_model, word2vec):\n",
    "    model_embedding = get_model_embedding(embedding_layer, vocab_for_model)\n",
    "    \n",
    "    shared_words = [w for w in word2vec.vocab if w in vocab_for_model]    \n",
    "    shared_model_emb = model_embedding[[vocab_for_model[w] for w in shared_words]]\n",
    "    shared_w2v_emb = word2vec[shared_words]\n",
    "    \n",
    "    expanded_embedding = {}\n",
    "\n",
    "    for word in word2vec.vocab:\n",
    "        word_embedding = linear_model.predict(word2vec[w].reshape(1, -1))\n",
    "        expanded_embedding[w] = word_embedding.reshape(-1)\n",
    "        \n",
    "    for word in vocab_for_model:\n",
    "        expanded_embedding[w] = model_embedding[vocab_for_model[word]]\n",
    "        \n",
    "    return expanded_embedding"
   ]
  },
  {
   "cell_type": "code",
   "execution_count": 44,
   "metadata": {},
   "outputs": [],
   "source": [
    "embedding_layer = model.skipthoughts.embedding\n",
    "vocab_for_model = predefined_vocab_mapping\n",
    "model_embedding = get_model_embedding(embedding_layer, vocab_for_model)\n",
    "    \n",
    "shared_words = [w for w in word2vec.vocab if w in vocab_for_model]    \n",
    "shared_model_emb = model_embedding[[vocab_for_model[w] for w in shared_words]]\n",
    "shared_w2v_emb = word2vec[shared_words]"
   ]
  },
  {
   "cell_type": "code",
   "execution_count": 48,
   "metadata": {},
   "outputs": [],
   "source": [
    "from torch.utils.data import DataLoader, TensorDataset"
   ]
  },
  {
   "cell_type": "code",
   "execution_count": 65,
   "metadata": {},
   "outputs": [],
   "source": [
    "train_loader = DataLoader(TensorDataset(torch.FloatTensor(shared_w2v_emb), torch.FloatTensor(shared_model_emb)), batch_size=128)"
   ]
  },
  {
   "cell_type": "code",
   "execution_count": 66,
   "metadata": {},
   "outputs": [],
   "source": [
    "class linearRegression(torch.nn.Module):\n",
    "    def __init__(self, inputSize, outputSize):\n",
    "        super(linearRegression, self).__init__()\n",
    "        self.linear = torch.nn.Linear(inputSize, outputSize)\n",
    "\n",
    "    def forward(self, x):\n",
    "        out = self.linear(x)\n",
    "        return out"
   ]
  },
  {
   "cell_type": "code",
   "execution_count": 67,
   "metadata": {},
   "outputs": [],
   "source": [
    "inputDim = 300    \n",
    "outputDim = 620  \n",
    "learningRate = 0.0001 \n",
    "epochs = 1\n",
    "\n",
    "linear_model = linearRegression(inputDim, outputDim)"
   ]
  },
  {
   "cell_type": "code",
   "execution_count": 68,
   "metadata": {},
   "outputs": [],
   "source": [
    "criterion = torch.nn.MSELoss() \n",
    "optimizer = torch.optim.Adam(model.parameters(), lr=learningRate)"
   ]
  },
  {
   "cell_type": "code",
   "execution_count": 69,
   "metadata": {},
   "outputs": [
    {
     "name": "stdout",
     "output_type": "stream",
     "text": [
      "epoch 0, loss 0.016657119616866112\n",
      "epoch 0, loss 0.01874433644115925\n",
      "epoch 0, loss 0.019357163459062576\n",
      "epoch 0, loss 0.019424332305788994\n",
      "epoch 0, loss 0.01965242438018322\n",
      "epoch 0, loss 0.020044760778546333\n",
      "epoch 0, loss 0.021223947405815125\n",
      "epoch 0, loss 0.021161239594221115\n",
      "epoch 0, loss 0.021560311317443848\n",
      "epoch 0, loss 0.021324515342712402\n",
      "epoch 0, loss 0.02162863314151764\n",
      "epoch 0, loss 0.023047134280204773\n",
      "epoch 0, loss 0.020465947687625885\n",
      "epoch 0, loss 0.00784893799573183\n"
     ]
    }
   ],
   "source": [
    "losses = []\n",
    "k = 0\n",
    "for epoch in range(epochs):\n",
    "    optimizer.zero_grad()                \n",
    "    for batch in train_loader:\n",
    "        outputs = linear_model(batch[0])\n",
    "        loss = criterion(outputs, batch[1])\n",
    "        losses.append(loss.item())\n",
    "        loss.backward()\n",
    "        optimizer.step()\n",
    "        k += 1\n",
    "        \n",
    "        if k % 10 == 0:\n",
    "            print('epoch {}, loss {}'.format(epoch, loss.item()))\n"
   ]
  },
  {
   "cell_type": "code",
   "execution_count": 70,
   "metadata": {},
   "outputs": [
    {
     "data": {
      "text/plain": [
       "[<matplotlib.lines.Line2D at 0x7f93187cada0>]"
      ]
     },
     "execution_count": 70,
     "metadata": {},
     "output_type": "execute_result"
    },
    {
     "data": {
      "image/png": "[encoded data removed]",
      "text/plain": [
       "<Figure size 432x288 with 1 Axes>"
      ]
     },
     "metadata": {
      "needs_background": "light"
     },
     "output_type": "display_data"
    }
   ],
   "source": [
    "import matplotlib.pyplot as plt\n",
    "%matplotlib inline \n",
    "\n",
    "plt.plot(losses, 'o')"
   ]
  },
  {
   "cell_type": "code",
   "execution_count": 86,
   "metadata": {},
   "outputs": [
    {
     "data": {
      "text/plain": [
       "3000000"
      ]
     },
     "execution_count": 86,
     "metadata": {},
     "output_type": "execute_result"
    }
   ],
   "source": [
    "len( word2vec.vocab)"
   ]
  },
  {
   "cell_type": "code",
   "execution_count": 88,
   "metadata": {},
   "outputs": [
    {
     "name": "stdout",
     "output_type": "stream",
     "text": [
      "I am fine\n",
      "I am fine\n",
      "I am fine\n",
      "I am fine\n",
      "I am fine\n",
      "I am fine\n",
      "I am fine\n",
      "I am fine\n",
      "I am fine\n",
      "I am fine\n",
      "I am fine\n",
      "I am fine\n",
      "I am fine\n",
      "I am fine\n",
      "I am fine\n",
      "I am fine\n",
      "I am fine\n",
      "I am fine\n",
      "I am fine\n",
      "I am fine\n",
      "I am fine\n",
      "I am fine\n",
      "I am fine\n",
      "I am fine\n",
      "I am fine\n",
      "I am fine\n",
      "I am fine\n",
      "I am fine\n",
      "I am fine\n",
      "I am fine\n",
      "I am fine\n",
      "I am fine\n",
      "I am fine\n",
      "I am fine\n",
      "I am fine\n",
      "I am fine\n",
      "I am fine\n",
      "I am fine\n",
      "I am fine\n",
      "I am fine\n",
      "I am fine\n",
      "I am fine\n",
      "I am fine\n",
      "I am fine\n",
      "I am fine\n",
      "I am fine\n",
      "I am fine\n",
      "I am fine\n",
      "I am fine\n",
      "I am fine\n",
      "I am fine\n",
      "I am fine\n",
      "I am fine\n",
      "I am fine\n",
      "I am fine\n",
      "I am fine\n",
      "I am fine\n",
      "I am fine\n",
      "I am fine\n",
      "I am fine\n",
      "I am fine\n",
      "I am fine\n",
      "I am fine\n",
      "I am fine\n",
      "I am fine\n",
      "I am fine\n",
      "I am fine\n",
      "I am fine\n",
      "I am fine\n",
      "I am fine\n",
      "I am fine\n",
      "I am fine\n",
      "I am fine\n",
      "I am fine\n",
      "I am fine\n",
      "I am fine\n",
      "I am fine\n",
      "I am fine\n",
      "I am fine\n",
      "I am fine\n",
      "I am fine\n",
      "I am fine\n",
      "I am fine\n",
      "I am fine\n",
      "I am fine\n",
      "I am fine\n",
      "I am fine\n",
      "I am fine\n",
      "I am fine\n",
      "I am fine\n",
      "I am fine\n",
      "I am fine\n",
      "I am fine\n",
      "I am fine\n",
      "I am fine\n",
      "I am fine\n",
      "I am fine\n",
      "I am fine\n",
      "I am fine\n",
      "I am fine\n",
      "I am fine\n",
      "I am fine\n",
      "I am fine\n",
      "I am fine\n",
      "I am fine\n",
      "I am fine\n",
      "I am fine\n",
      "I am fine\n",
      "I am fine\n",
      "I am fine\n",
      "I am fine\n",
      "I am fine\n",
      "I am fine\n",
      "I am fine\n",
      "I am fine\n",
      "I am fine\n",
      "I am fine\n",
      "I am fine\n",
      "I am fine\n",
      "I am fine\n",
      "I am fine\n",
      "I am fine\n",
      "I am fine\n",
      "I am fine\n",
      "I am fine\n",
      "I am fine\n",
      "I am fine\n",
      "I am fine\n",
      "I am fine\n",
      "I am fine\n",
      "I am fine\n",
      "I am fine\n",
      "I am fine\n",
      "I am fine\n",
      "I am fine\n",
      "I am fine\n",
      "I am fine\n",
      "I am fine\n",
      "I am fine\n",
      "I am fine\n",
      "I am fine\n",
      "I am fine\n",
      "I am fine\n",
      "I am fine\n",
      "I am fine\n",
      "I am fine\n",
      "I am fine\n",
      "I am fine\n",
      "I am fine\n",
      "I am fine\n",
      "I am fine\n",
      "I am fine\n",
      "I am fine\n",
      "I am fine\n",
      "I am fine\n",
      "I am fine\n",
      "I am fine\n",
      "I am fine\n",
      "I am fine\n",
      "I am fine\n",
      "I am fine\n",
      "I am fine\n",
      "I am fine\n",
      "I am fine\n",
      "I am fine\n",
      "I am fine\n",
      "I am fine\n",
      "I am fine\n",
      "I am fine\n",
      "I am fine\n",
      "I am fine\n",
      "I am fine\n",
      "I am fine\n",
      "I am fine\n",
      "I am fine\n",
      "I am fine\n",
      "I am fine\n",
      "I am fine\n",
      "I am fine\n",
      "I am fine\n",
      "I am fine\n",
      "I am fine\n",
      "I am fine\n",
      "I am fine\n",
      "I am fine\n",
      "I am fine\n",
      "I am fine\n",
      "I am fine\n",
      "I am fine\n",
      "I am fine\n",
      "I am fine\n",
      "I am fine\n",
      "I am fine\n",
      "I am fine\n",
      "I am fine\n",
      "I am fine\n",
      "I am fine\n",
      "I am fine\n",
      "I am fine\n",
      "I am fine\n",
      "I am fine\n",
      "I am fine\n",
      "I am fine\n",
      "I am fine\n",
      "I am fine\n",
      "I am fine\n",
      "I am fine\n",
      "I am fine\n",
      "I am fine\n",
      "I am fine\n",
      "I am fine\n",
      "I am fine\n",
      "I am fine\n",
      "I am fine\n",
      "I am fine\n",
      "I am fine\n",
      "I am fine\n",
      "I am fine\n",
      "I am fine\n",
      "I am fine\n",
      "I am fine\n",
      "I am fine\n",
      "I am fine\n",
      "I am fine\n",
      "I am fine\n",
      "I am fine\n",
      "I am fine\n",
      "I am fine\n",
      "I am fine\n",
      "I am fine\n",
      "I am fine\n",
      "I am fine\n",
      "I am fine\n",
      "I am fine\n",
      "I am fine\n",
      "I am fine\n",
      "I am fine\n",
      "I am fine\n",
      "I am fine\n",
      "I am fine\n",
      "I am fine\n",
      "I am fine\n",
      "I am fine\n",
      "I am fine\n",
      "I am fine\n",
      "I am fine\n",
      "I am fine\n",
      "I am fine\n",
      "I am fine\n",
      "I am fine\n",
      "I am fine\n",
      "I am fine\n",
      "I am fine\n",
      "I am fine\n",
      "I am fine\n",
      "I am fine\n",
      "I am fine\n",
      "I am fine\n",
      "I am fine\n",
      "I am fine\n",
      "I am fine\n",
      "I am fine\n",
      "I am fine\n",
      "I am fine\n",
      "I am fine\n",
      "I am fine\n",
      "I am fine\n",
      "I am fine\n",
      "I am fine\n",
      "I am fine\n",
      "I am fine\n",
      "I am fine\n",
      "I am fine\n",
      "I am fine\n",
      "I am fine\n",
      "I am fine\n",
      "I am fine\n",
      "I am fine\n",
      "I am fine\n",
      "I am fine\n",
      "I am fine\n",
      "I am fine\n",
      "I am fine\n",
      "I am fine\n",
      "I am fine\n",
      "I am fine\n",
      "I am fine\n",
      "I am fine\n",
      "I am fine\n",
      "I am fine\n",
      "I am fine\n",
      "I am fine\n",
      "I am fine\n",
      "I am fine\n",
      "I am fine\n",
      "I am fine\n",
      "I am fine\n",
      "I am fine\n",
      "I am fine\n",
      "I am fine\n"
     ]
    }
   ],
   "source": [
    "expanded_embedding = {}\n",
    "k = 0\n",
    "for word in word2vec.vocab:\n",
    "    word_embedding = linear_model(torch.FloatTensor(word2vec[word]))\n",
    "    expanded_embedding[word] = word_embedding.reshape(-1)\n",
    "    k += 1\n",
    "    if k % 10000 == 0:\n",
    "        print('I am fine')"
   ]
  },
  {
   "cell_type": "code",
   "execution_count": 96,
   "metadata": {},
   "outputs": [],
   "source": [
    "for word in vocab_for_model:\n",
    "    expanded_embedding[word] = model_embedding[vocab_for_model[word]]\n",
    "        "
   ]
  },
  {
   "cell_type": "code",
   "execution_count": 126,
   "metadata": {},
   "outputs": [],
   "source": [
    "import pickle\n",
    "def save_expansion(embedding_map):\n",
    "    embeddings = []\n",
    "    vocab_dict = {}\n",
    "    for idx, (word, emb) in enumerate(embedding_map.items()):\n",
    "        try:\n",
    "            vector = emb.detach().numpy()\n",
    "        except:\n",
    "            vector = emb\n",
    "        embeddings.append(vector)\n",
    "        vocab_dict[word] = int(idx)\n",
    "    embeddings = np.array(embeddings)\n",
    "    assert embeddings.shape[0] == len(embedding_map)\n",
    "    np.save('embeddings_expanded.npy', embeddings)\n",
    "    with open('vocab_expanded.pkl', 'wb') as f:\n",
    "        pickle.dump(vocab_dict, f)"
   ]
  },
  {
   "cell_type": "code",
   "execution_count": 127,
   "metadata": {},
   "outputs": [],
   "source": [
    "save_expansion(expanded_embedding)"
   ]
  },
  {
   "cell_type": "code",
   "execution_count": null,
   "metadata": {},
   "outputs": [],
   "source": []
  }
 ],
 "metadata": {
  "kernelspec": {
   "display_name": "Python 3",
   "language": "python",
   "name": "python3"
  },
  "language_info": {
   "codemirror_mode": {
    "name": "ipython",
    "version": 3
   },
   "file_extension": ".py",
   "mimetype": "text/x-python",
   "name": "python",
   "nbconvert_exporter": "python",
   "pygments_lexer": "ipython3",
   "version": "3.7.1"
  }
 },
 "nbformat": 4,
 "nbformat_minor": 2
}
